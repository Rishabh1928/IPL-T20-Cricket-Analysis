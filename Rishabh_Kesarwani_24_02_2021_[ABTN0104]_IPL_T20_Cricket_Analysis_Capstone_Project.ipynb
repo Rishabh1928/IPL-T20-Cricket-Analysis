{
  "nbformat": 4,
  "nbformat_minor": 0,
  "metadata": {
    "kernelspec": {
      "display_name": "Python 3",
      "language": "python",
      "name": "python3"
    },
    "language_info": {
      "codemirror_mode": {
        "name": "ipython",
        "version": 3
      },
      "file_extension": ".py",
      "mimetype": "text/x-python",
      "name": "python",
      "nbconvert_exporter": "python",
      "pygments_lexer": "ipython3",
      "version": "3.6.6"
    },
    "colab": {
      "name": "Rishabh Kesarwani - 24/02/2021 - [ABTN0104] - IPL T20 Cricket Analysis - Capstone Project.ipynb",
      "provenance": [],
      "collapsed_sections": [],
      "include_colab_link": true
    }
  },
  "cells": [
    {
      "cell_type": "markdown",
      "metadata": {
        "id": "view-in-github",
        "colab_type": "text"
      },
      "source": [
        "<a href=\"https://colab.research.google.com/github/Rishabh1928/IPL-T20-Cricket-Analysis/blob/main/Rishabh_Kesarwani_24_02_2021_%5BABTN0104%5D_IPL_T20_Cricket_Analysis_Capstone_Project.ipynb\" target=\"_parent\"><img src=\"https://colab.research.google.com/assets/colab-badge.svg\" alt=\"Open In Colab\"/></a>"
      ]
    },
    {
      "cell_type": "markdown",
      "metadata": {
        "id": "Y06xIdG26kRF"
      },
      "source": [
        "## <b> Indian Premier League(IPL) is a professional Twenty20 cricket league in India contested during March or April and May of every year by eight teams representing eight different cities in India. The league was founded by the Board of Control for Cricket in India(BCCI) in 2008. </b>\n",
        "\n",
        "## <b> Explore and analyze the data to discover results and statistics for different teams playing in IPL. </b>"
      ]
    },
    {
      "cell_type": "code",
      "metadata": {
        "id": "dByMsuzT8Tnw"
      },
      "source": [
        "# Importing basic libraries\r\n",
        "\r\n",
        "import numpy as np\r\n",
        "import pandas as pd\r\n",
        "import matplotlib.pyplot as plt\r\n",
        "import seaborn as sns\r\n",
        "\r\n",
        "%matplotlib inline"
      ],
      "execution_count": 1,
      "outputs": []
    },
    {
      "cell_type": "code",
      "metadata": {
        "colab": {
          "base_uri": "https://localhost:8080/"
        },
        "id": "x-6pwHNYjVd3",
        "outputId": "7f4da38f-1a3e-46a3-86e2-7f492b841f1b"
      },
      "source": [
        "# Mounting the drive to get the data files\n",
        "\n",
        "from google.colab import drive\n",
        "drive.mount('/content/drive')"
      ],
      "execution_count": 2,
      "outputs": [
        {
          "output_type": "stream",
          "text": [
            "Mounted at /content/drive\n"
          ],
          "name": "stdout"
        }
      ]
    },
    {
      "cell_type": "code",
      "metadata": {
        "id": "QyKVt3l0jWos"
      },
      "source": [
        "# loading files and reading using pandas.read_csv()\r\n",
        "\r\n",
        "working_dir = \"/content/drive/MyDrive/Almabetter/Capstone Project 1 (IPL-T20)/Data/\"\r\n",
        "\r\n",
        "deliveries_df = pd.read_csv(working_dir + \"deliveries.csv\")\r\n",
        "matches_df = pd.read_csv(working_dir + \"matches.csv\")\r\n",
        "teams_df = pd.read_csv(working_dir + \"teams.csv\")\r\n",
        "avg_strikerate_df = pd.read_csv(working_dir + \"most_runs_average_strikerate.csv\")"
      ],
      "execution_count": 3,
      "outputs": []
    },
    {
      "cell_type": "markdown",
      "metadata": {
        "id": "sj8lHChXyxNV"
      },
      "source": [
        "## Basic inspection"
      ]
    },
    {
      "cell_type": "code",
      "metadata": {
        "colab": {
          "base_uri": "https://localhost:8080/"
        },
        "id": "x-17xyKLmWBT",
        "outputId": "9efc64df-cc8a-48ff-d973-e78d15f09757"
      },
      "source": [
        "# Checking columns\r\n",
        "\r\n",
        "deliveries_df.columns"
      ],
      "execution_count": 4,
      "outputs": [
        {
          "output_type": "execute_result",
          "data": {
            "text/plain": [
              "Index(['match_id', 'inning', 'batting_team', 'bowling_team', 'over', 'ball',\n",
              "       'batsman', 'non_striker', 'bowler', 'is_super_over', 'wide_runs',\n",
              "       'bye_runs', 'legbye_runs', 'noball_runs', 'penalty_runs',\n",
              "       'batsman_runs', 'extra_runs', 'total_runs', 'player_dismissed',\n",
              "       'dismissal_kind', 'fielder'],\n",
              "      dtype='object')"
            ]
          },
          "metadata": {
            "tags": []
          },
          "execution_count": 4
        }
      ]
    },
    {
      "cell_type": "code",
      "metadata": {
        "colab": {
          "base_uri": "https://localhost:8080/"
        },
        "id": "2NKOb9AImt4o",
        "outputId": "24d9d759-f0a7-41d0-9d64-31a145b9a7d6"
      },
      "source": [
        "# Getting info of deliveries (null/non null)\r\n",
        "\r\n",
        "deliveries_df.info()"
      ],
      "execution_count": 5,
      "outputs": [
        {
          "output_type": "stream",
          "text": [
            "<class 'pandas.core.frame.DataFrame'>\n",
            "RangeIndex: 179078 entries, 0 to 179077\n",
            "Data columns (total 21 columns):\n",
            " #   Column            Non-Null Count   Dtype \n",
            "---  ------            --------------   ----- \n",
            " 0   match_id          179078 non-null  int64 \n",
            " 1   inning            179078 non-null  int64 \n",
            " 2   batting_team      179078 non-null  object\n",
            " 3   bowling_team      179078 non-null  object\n",
            " 4   over              179078 non-null  int64 \n",
            " 5   ball              179078 non-null  int64 \n",
            " 6   batsman           179078 non-null  object\n",
            " 7   non_striker       179078 non-null  object\n",
            " 8   bowler            179078 non-null  object\n",
            " 9   is_super_over     179078 non-null  int64 \n",
            " 10  wide_runs         179078 non-null  int64 \n",
            " 11  bye_runs          179078 non-null  int64 \n",
            " 12  legbye_runs       179078 non-null  int64 \n",
            " 13  noball_runs       179078 non-null  int64 \n",
            " 14  penalty_runs      179078 non-null  int64 \n",
            " 15  batsman_runs      179078 non-null  int64 \n",
            " 16  extra_runs        179078 non-null  int64 \n",
            " 17  total_runs        179078 non-null  int64 \n",
            " 18  player_dismissed  8834 non-null    object\n",
            " 19  dismissal_kind    8834 non-null    object\n",
            " 20  fielder           6448 non-null    object\n",
            "dtypes: int64(13), object(8)\n",
            "memory usage: 28.7+ MB\n"
          ],
          "name": "stdout"
        }
      ]
    },
    {
      "cell_type": "code",
      "metadata": {
        "colab": {
          "base_uri": "https://localhost:8080/"
        },
        "id": "ZxuW3RJLnCIT",
        "outputId": "9879b670-baf1-4d7c-9ac7-41b16b32aff6"
      },
      "source": [
        "deliveries_df.shape"
      ],
      "execution_count": 6,
      "outputs": [
        {
          "output_type": "execute_result",
          "data": {
            "text/plain": [
              "(179078, 21)"
            ]
          },
          "metadata": {
            "tags": []
          },
          "execution_count": 6
        }
      ]
    },
    {
      "cell_type": "code",
      "metadata": {
        "colab": {
          "base_uri": "https://localhost:8080/",
          "height": 394
        },
        "id": "Vmd746IIn_nP",
        "outputId": "400765d2-1374-4627-c4db-91949b9cf8ee"
      },
      "source": [
        "deliveries_df.head()"
      ],
      "execution_count": 7,
      "outputs": [
        {
          "output_type": "execute_result",
          "data": {
            "text/html": [
              "<div>\n",
              "<style scoped>\n",
              "    .dataframe tbody tr th:only-of-type {\n",
              "        vertical-align: middle;\n",
              "    }\n",
              "\n",
              "    .dataframe tbody tr th {\n",
              "        vertical-align: top;\n",
              "    }\n",
              "\n",
              "    .dataframe thead th {\n",
              "        text-align: right;\n",
              "    }\n",
              "</style>\n",
              "<table border=\"1\" class=\"dataframe\">\n",
              "  <thead>\n",
              "    <tr style=\"text-align: right;\">\n",
              "      <th></th>\n",
              "      <th>match_id</th>\n",
              "      <th>inning</th>\n",
              "      <th>batting_team</th>\n",
              "      <th>bowling_team</th>\n",
              "      <th>over</th>\n",
              "      <th>ball</th>\n",
              "      <th>batsman</th>\n",
              "      <th>non_striker</th>\n",
              "      <th>bowler</th>\n",
              "      <th>is_super_over</th>\n",
              "      <th>wide_runs</th>\n",
              "      <th>bye_runs</th>\n",
              "      <th>legbye_runs</th>\n",
              "      <th>noball_runs</th>\n",
              "      <th>penalty_runs</th>\n",
              "      <th>batsman_runs</th>\n",
              "      <th>extra_runs</th>\n",
              "      <th>total_runs</th>\n",
              "      <th>player_dismissed</th>\n",
              "      <th>dismissal_kind</th>\n",
              "      <th>fielder</th>\n",
              "    </tr>\n",
              "  </thead>\n",
              "  <tbody>\n",
              "    <tr>\n",
              "      <th>0</th>\n",
              "      <td>1</td>\n",
              "      <td>1</td>\n",
              "      <td>Sunrisers Hyderabad</td>\n",
              "      <td>Royal Challengers Bangalore</td>\n",
              "      <td>1</td>\n",
              "      <td>1</td>\n",
              "      <td>DA Warner</td>\n",
              "      <td>S Dhawan</td>\n",
              "      <td>TS Mills</td>\n",
              "      <td>0</td>\n",
              "      <td>0</td>\n",
              "      <td>0</td>\n",
              "      <td>0</td>\n",
              "      <td>0</td>\n",
              "      <td>0</td>\n",
              "      <td>0</td>\n",
              "      <td>0</td>\n",
              "      <td>0</td>\n",
              "      <td>NaN</td>\n",
              "      <td>NaN</td>\n",
              "      <td>NaN</td>\n",
              "    </tr>\n",
              "    <tr>\n",
              "      <th>1</th>\n",
              "      <td>1</td>\n",
              "      <td>1</td>\n",
              "      <td>Sunrisers Hyderabad</td>\n",
              "      <td>Royal Challengers Bangalore</td>\n",
              "      <td>1</td>\n",
              "      <td>2</td>\n",
              "      <td>DA Warner</td>\n",
              "      <td>S Dhawan</td>\n",
              "      <td>TS Mills</td>\n",
              "      <td>0</td>\n",
              "      <td>0</td>\n",
              "      <td>0</td>\n",
              "      <td>0</td>\n",
              "      <td>0</td>\n",
              "      <td>0</td>\n",
              "      <td>0</td>\n",
              "      <td>0</td>\n",
              "      <td>0</td>\n",
              "      <td>NaN</td>\n",
              "      <td>NaN</td>\n",
              "      <td>NaN</td>\n",
              "    </tr>\n",
              "    <tr>\n",
              "      <th>2</th>\n",
              "      <td>1</td>\n",
              "      <td>1</td>\n",
              "      <td>Sunrisers Hyderabad</td>\n",
              "      <td>Royal Challengers Bangalore</td>\n",
              "      <td>1</td>\n",
              "      <td>3</td>\n",
              "      <td>DA Warner</td>\n",
              "      <td>S Dhawan</td>\n",
              "      <td>TS Mills</td>\n",
              "      <td>0</td>\n",
              "      <td>0</td>\n",
              "      <td>0</td>\n",
              "      <td>0</td>\n",
              "      <td>0</td>\n",
              "      <td>0</td>\n",
              "      <td>4</td>\n",
              "      <td>0</td>\n",
              "      <td>4</td>\n",
              "      <td>NaN</td>\n",
              "      <td>NaN</td>\n",
              "      <td>NaN</td>\n",
              "    </tr>\n",
              "    <tr>\n",
              "      <th>3</th>\n",
              "      <td>1</td>\n",
              "      <td>1</td>\n",
              "      <td>Sunrisers Hyderabad</td>\n",
              "      <td>Royal Challengers Bangalore</td>\n",
              "      <td>1</td>\n",
              "      <td>4</td>\n",
              "      <td>DA Warner</td>\n",
              "      <td>S Dhawan</td>\n",
              "      <td>TS Mills</td>\n",
              "      <td>0</td>\n",
              "      <td>0</td>\n",
              "      <td>0</td>\n",
              "      <td>0</td>\n",
              "      <td>0</td>\n",
              "      <td>0</td>\n",
              "      <td>0</td>\n",
              "      <td>0</td>\n",
              "      <td>0</td>\n",
              "      <td>NaN</td>\n",
              "      <td>NaN</td>\n",
              "      <td>NaN</td>\n",
              "    </tr>\n",
              "    <tr>\n",
              "      <th>4</th>\n",
              "      <td>1</td>\n",
              "      <td>1</td>\n",
              "      <td>Sunrisers Hyderabad</td>\n",
              "      <td>Royal Challengers Bangalore</td>\n",
              "      <td>1</td>\n",
              "      <td>5</td>\n",
              "      <td>DA Warner</td>\n",
              "      <td>S Dhawan</td>\n",
              "      <td>TS Mills</td>\n",
              "      <td>0</td>\n",
              "      <td>2</td>\n",
              "      <td>0</td>\n",
              "      <td>0</td>\n",
              "      <td>0</td>\n",
              "      <td>0</td>\n",
              "      <td>0</td>\n",
              "      <td>2</td>\n",
              "      <td>2</td>\n",
              "      <td>NaN</td>\n",
              "      <td>NaN</td>\n",
              "      <td>NaN</td>\n",
              "    </tr>\n",
              "  </tbody>\n",
              "</table>\n",
              "</div>"
            ],
            "text/plain": [
              "   match_id  inning  ... dismissal_kind fielder\n",
              "0         1       1  ...            NaN     NaN\n",
              "1         1       1  ...            NaN     NaN\n",
              "2         1       1  ...            NaN     NaN\n",
              "3         1       1  ...            NaN     NaN\n",
              "4         1       1  ...            NaN     NaN\n",
              "\n",
              "[5 rows x 21 columns]"
            ]
          },
          "metadata": {
            "tags": []
          },
          "execution_count": 7
        }
      ]
    },
    {
      "cell_type": "code",
      "metadata": {
        "colab": {
          "base_uri": "https://localhost:8080/",
          "height": 445
        },
        "id": "BG9LC5qqnHFo",
        "outputId": "5ca3483b-768d-4a27-a1c5-fed725fd7089"
      },
      "source": [
        "matches_df.head()"
      ],
      "execution_count": 8,
      "outputs": [
        {
          "output_type": "execute_result",
          "data": {
            "text/html": [
              "<div>\n",
              "<style scoped>\n",
              "    .dataframe tbody tr th:only-of-type {\n",
              "        vertical-align: middle;\n",
              "    }\n",
              "\n",
              "    .dataframe tbody tr th {\n",
              "        vertical-align: top;\n",
              "    }\n",
              "\n",
              "    .dataframe thead th {\n",
              "        text-align: right;\n",
              "    }\n",
              "</style>\n",
              "<table border=\"1\" class=\"dataframe\">\n",
              "  <thead>\n",
              "    <tr style=\"text-align: right;\">\n",
              "      <th></th>\n",
              "      <th>id</th>\n",
              "      <th>Season</th>\n",
              "      <th>city</th>\n",
              "      <th>date</th>\n",
              "      <th>team1</th>\n",
              "      <th>team2</th>\n",
              "      <th>toss_winner</th>\n",
              "      <th>toss_decision</th>\n",
              "      <th>result</th>\n",
              "      <th>dl_applied</th>\n",
              "      <th>winner</th>\n",
              "      <th>win_by_runs</th>\n",
              "      <th>win_by_wickets</th>\n",
              "      <th>player_of_match</th>\n",
              "      <th>venue</th>\n",
              "      <th>umpire1</th>\n",
              "      <th>umpire2</th>\n",
              "      <th>umpire3</th>\n",
              "    </tr>\n",
              "  </thead>\n",
              "  <tbody>\n",
              "    <tr>\n",
              "      <th>0</th>\n",
              "      <td>1</td>\n",
              "      <td>IPL-2017</td>\n",
              "      <td>Hyderabad</td>\n",
              "      <td>05-04-2017</td>\n",
              "      <td>Sunrisers Hyderabad</td>\n",
              "      <td>Royal Challengers Bangalore</td>\n",
              "      <td>Royal Challengers Bangalore</td>\n",
              "      <td>field</td>\n",
              "      <td>normal</td>\n",
              "      <td>0</td>\n",
              "      <td>Sunrisers Hyderabad</td>\n",
              "      <td>35</td>\n",
              "      <td>0</td>\n",
              "      <td>Yuvraj Singh</td>\n",
              "      <td>Rajiv Gandhi International Stadium, Uppal</td>\n",
              "      <td>AY Dandekar</td>\n",
              "      <td>NJ Llong</td>\n",
              "      <td>NaN</td>\n",
              "    </tr>\n",
              "    <tr>\n",
              "      <th>1</th>\n",
              "      <td>2</td>\n",
              "      <td>IPL-2017</td>\n",
              "      <td>Pune</td>\n",
              "      <td>06-04-2017</td>\n",
              "      <td>Mumbai Indians</td>\n",
              "      <td>Rising Pune Supergiant</td>\n",
              "      <td>Rising Pune Supergiant</td>\n",
              "      <td>field</td>\n",
              "      <td>normal</td>\n",
              "      <td>0</td>\n",
              "      <td>Rising Pune Supergiant</td>\n",
              "      <td>0</td>\n",
              "      <td>7</td>\n",
              "      <td>SPD Smith</td>\n",
              "      <td>Maharashtra Cricket Association Stadium</td>\n",
              "      <td>A Nand Kishore</td>\n",
              "      <td>S Ravi</td>\n",
              "      <td>NaN</td>\n",
              "    </tr>\n",
              "    <tr>\n",
              "      <th>2</th>\n",
              "      <td>3</td>\n",
              "      <td>IPL-2017</td>\n",
              "      <td>Rajkot</td>\n",
              "      <td>07-04-2017</td>\n",
              "      <td>Gujarat Lions</td>\n",
              "      <td>Kolkata Knight Riders</td>\n",
              "      <td>Kolkata Knight Riders</td>\n",
              "      <td>field</td>\n",
              "      <td>normal</td>\n",
              "      <td>0</td>\n",
              "      <td>Kolkata Knight Riders</td>\n",
              "      <td>0</td>\n",
              "      <td>10</td>\n",
              "      <td>CA Lynn</td>\n",
              "      <td>Saurashtra Cricket Association Stadium</td>\n",
              "      <td>Nitin Menon</td>\n",
              "      <td>CK Nandan</td>\n",
              "      <td>NaN</td>\n",
              "    </tr>\n",
              "    <tr>\n",
              "      <th>3</th>\n",
              "      <td>4</td>\n",
              "      <td>IPL-2017</td>\n",
              "      <td>Indore</td>\n",
              "      <td>08-04-2017</td>\n",
              "      <td>Rising Pune Supergiant</td>\n",
              "      <td>Kings XI Punjab</td>\n",
              "      <td>Kings XI Punjab</td>\n",
              "      <td>field</td>\n",
              "      <td>normal</td>\n",
              "      <td>0</td>\n",
              "      <td>Kings XI Punjab</td>\n",
              "      <td>0</td>\n",
              "      <td>6</td>\n",
              "      <td>GJ Maxwell</td>\n",
              "      <td>Holkar Cricket Stadium</td>\n",
              "      <td>AK Chaudhary</td>\n",
              "      <td>C Shamshuddin</td>\n",
              "      <td>NaN</td>\n",
              "    </tr>\n",
              "    <tr>\n",
              "      <th>4</th>\n",
              "      <td>5</td>\n",
              "      <td>IPL-2017</td>\n",
              "      <td>Bangalore</td>\n",
              "      <td>08-04-2017</td>\n",
              "      <td>Royal Challengers Bangalore</td>\n",
              "      <td>Delhi Daredevils</td>\n",
              "      <td>Royal Challengers Bangalore</td>\n",
              "      <td>bat</td>\n",
              "      <td>normal</td>\n",
              "      <td>0</td>\n",
              "      <td>Royal Challengers Bangalore</td>\n",
              "      <td>15</td>\n",
              "      <td>0</td>\n",
              "      <td>KM Jadhav</td>\n",
              "      <td>M Chinnaswamy Stadium</td>\n",
              "      <td>NaN</td>\n",
              "      <td>NaN</td>\n",
              "      <td>NaN</td>\n",
              "    </tr>\n",
              "  </tbody>\n",
              "</table>\n",
              "</div>"
            ],
            "text/plain": [
              "   id    Season       city  ...         umpire1        umpire2 umpire3\n",
              "0   1  IPL-2017  Hyderabad  ...     AY Dandekar       NJ Llong     NaN\n",
              "1   2  IPL-2017       Pune  ...  A Nand Kishore         S Ravi     NaN\n",
              "2   3  IPL-2017     Rajkot  ...     Nitin Menon      CK Nandan     NaN\n",
              "3   4  IPL-2017     Indore  ...    AK Chaudhary  C Shamshuddin     NaN\n",
              "4   5  IPL-2017  Bangalore  ...             NaN            NaN     NaN\n",
              "\n",
              "[5 rows x 18 columns]"
            ]
          },
          "metadata": {
            "tags": []
          },
          "execution_count": 8
        }
      ]
    },
    {
      "cell_type": "code",
      "metadata": {
        "colab": {
          "base_uri": "https://localhost:8080/"
        },
        "id": "8M78q3yIbywW",
        "outputId": "4418b395-5322-47e2-f193-4ae6d3468bfe"
      },
      "source": [
        "matches_df.shape"
      ],
      "execution_count": 9,
      "outputs": [
        {
          "output_type": "execute_result",
          "data": {
            "text/plain": [
              "(756, 18)"
            ]
          },
          "metadata": {
            "tags": []
          },
          "execution_count": 9
        }
      ]
    },
    {
      "cell_type": "code",
      "metadata": {
        "colab": {
          "base_uri": "https://localhost:8080/"
        },
        "id": "WDu9Hkpnngcq",
        "outputId": "79fdb275-4f89-4570-9b0d-dff5429495f8"
      },
      "source": [
        "matches_df[\"Season\"].unique()"
      ],
      "execution_count": 10,
      "outputs": [
        {
          "output_type": "execute_result",
          "data": {
            "text/plain": [
              "array(['IPL-2017', 'IPL-2008', 'IPL-2009', 'IPL-2010', 'IPL-2011',\n",
              "       'IPL-2012', 'IPL-2013', 'IPL-2014', 'IPL-2015', 'IPL-2016',\n",
              "       'IPL-2018', 'IPL-2019'], dtype=object)"
            ]
          },
          "metadata": {
            "tags": []
          },
          "execution_count": 10
        }
      ]
    },
    {
      "cell_type": "code",
      "metadata": {
        "colab": {
          "base_uri": "https://localhost:8080/"
        },
        "id": "1JkhqM3Pn3rp",
        "outputId": "a7c94265-4dde-406a-a470-a13dd0e54044"
      },
      "source": [
        "# Getting unique seasons that are availble with us in the dataset\r\n",
        "\r\n",
        "matches_df[\"Season\"].nunique()  # can use len() also"
      ],
      "execution_count": 11,
      "outputs": [
        {
          "output_type": "execute_result",
          "data": {
            "text/plain": [
              "12"
            ]
          },
          "metadata": {
            "tags": []
          },
          "execution_count": 11
        }
      ]
    },
    {
      "cell_type": "code",
      "metadata": {
        "colab": {
          "base_uri": "https://localhost:8080/"
        },
        "id": "23KSC9Fwfygw",
        "outputId": "c84bd112-7002-4b20-ef2b-b76a1e713854"
      },
      "source": [
        "matches_df.info()"
      ],
      "execution_count": 12,
      "outputs": [
        {
          "output_type": "stream",
          "text": [
            "<class 'pandas.core.frame.DataFrame'>\n",
            "RangeIndex: 756 entries, 0 to 755\n",
            "Data columns (total 18 columns):\n",
            " #   Column           Non-Null Count  Dtype \n",
            "---  ------           --------------  ----- \n",
            " 0   id               756 non-null    int64 \n",
            " 1   Season           756 non-null    object\n",
            " 2   city             749 non-null    object\n",
            " 3   date             756 non-null    object\n",
            " 4   team1            756 non-null    object\n",
            " 5   team2            756 non-null    object\n",
            " 6   toss_winner      756 non-null    object\n",
            " 7   toss_decision    756 non-null    object\n",
            " 8   result           756 non-null    object\n",
            " 9   dl_applied       756 non-null    int64 \n",
            " 10  winner           752 non-null    object\n",
            " 11  win_by_runs      756 non-null    int64 \n",
            " 12  win_by_wickets   756 non-null    int64 \n",
            " 13  player_of_match  752 non-null    object\n",
            " 14  venue            756 non-null    object\n",
            " 15  umpire1          754 non-null    object\n",
            " 16  umpire2          754 non-null    object\n",
            " 17  umpire3          119 non-null    object\n",
            "dtypes: int64(4), object(14)\n",
            "memory usage: 106.4+ KB\n"
          ],
          "name": "stdout"
        }
      ]
    },
    {
      "cell_type": "code",
      "metadata": {
        "colab": {
          "base_uri": "https://localhost:8080/"
        },
        "id": "i63_qfeIe7h9",
        "outputId": "f70eb950-d47d-4d73-8609-01bbee9747ae"
      },
      "source": [
        "# getting count of player of the match award (like who won what number of player of match award)\r\n",
        "\r\n",
        "matches_df[\"player_of_match\"].value_counts()"
      ],
      "execution_count": 13,
      "outputs": [
        {
          "output_type": "execute_result",
          "data": {
            "text/plain": [
              "CH Gayle          21\n",
              "AB de Villiers    20\n",
              "DA Warner         17\n",
              "RG Sharma         17\n",
              "MS Dhoni          17\n",
              "                  ..\n",
              "RE Levi            1\n",
              "TA Boult           1\n",
              "JJ Roy             1\n",
              "R Bhatia           1\n",
              "RA Tripathi        1\n",
              "Name: player_of_match, Length: 226, dtype: int64"
            ]
          },
          "metadata": {
            "tags": []
          },
          "execution_count": 13
        }
      ]
    },
    {
      "cell_type": "markdown",
      "metadata": {
        "id": "m8V1QJangTc5"
      },
      "source": [
        "## Top 5 players with most player of the match award\r\n",
        "\r\n",
        "![image.png](data:image/png;base64,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)\r\n",
        "\r\n"
      ]
    },
    {
      "cell_type": "code",
      "metadata": {
        "colab": {
          "base_uri": "https://localhost:8080/"
        },
        "id": "hJbLCua1gD6r",
        "outputId": "dbc6a2fd-3158-4e29-d4d4-2170e5b06799"
      },
      "source": [
        "matches_df[\"player_of_match\"].value_counts().head() # as head will give by default top 5 observations"
      ],
      "execution_count": 14,
      "outputs": [
        {
          "output_type": "execute_result",
          "data": {
            "text/plain": [
              "CH Gayle          21\n",
              "AB de Villiers    20\n",
              "DA Warner         17\n",
              "RG Sharma         17\n",
              "MS Dhoni          17\n",
              "Name: player_of_match, dtype: int64"
            ]
          },
          "metadata": {
            "tags": []
          },
          "execution_count": 14
        }
      ]
    },
    {
      "cell_type": "code",
      "metadata": {
        "colab": {
          "base_uri": "https://localhost:8080/"
        },
        "id": "fMEMq4jXgD3H",
        "outputId": "8c519117-a053-44a9-a168-f1276a9040af"
      },
      "source": [
        "# Alternate way\r\n",
        "\r\n",
        "top_five_player_of_match = matches_df[\"player_of_match\"].value_counts()[0:5]\r\n",
        "top_five_player_of_match"
      ],
      "execution_count": 15,
      "outputs": [
        {
          "output_type": "execute_result",
          "data": {
            "text/plain": [
              "CH Gayle          21\n",
              "AB de Villiers    20\n",
              "DA Warner         17\n",
              "RG Sharma         17\n",
              "MS Dhoni          17\n",
              "Name: player_of_match, dtype: int64"
            ]
          },
          "metadata": {
            "tags": []
          },
          "execution_count": 15
        }
      ]
    },
    {
      "cell_type": "code",
      "metadata": {
        "colab": {
          "base_uri": "https://localhost:8080/",
          "height": 423
        },
        "id": "HWM25Oo_-EH-",
        "outputId": "131bde5e-2a19-4e0c-ec81-b942924aeb28"
      },
      "source": [
        "# Visualizing this using bar plot\r\n",
        "\r\n",
        "plt.rcParams['figure.figsize'] = (10, 5)\r\n",
        "\r\n",
        "top_five_player_of_match.plot(kind = \"bar\")\r\n",
        "plt.title(\"Most number of player of the match from season 2008-2019\")\r\n",
        "plt.ylabel(\"Player Names\")\r\n",
        "plt.xlabel(\"Number of matches\")\r\n"
      ],
      "execution_count": 16,
      "outputs": [
        {
          "output_type": "execute_result",
          "data": {
            "text/plain": [
              "Text(0.5, 0, 'Number of matches')"
            ]
          },
          "metadata": {
            "tags": []
          },
          "execution_count": 16
        },
        {
          "output_type": "display_data",
          "data": {
            "image/png": "[encoded data removed]",
            "text/plain": [
              "<Figure size 720x360 with 1 Axes>"
            ]
          },
          "metadata": {
            "tags": [],
            "needs_background": "light"
          }
        }
      ]
    },
    {
      "cell_type": "code",
      "metadata": {
        "colab": {
          "base_uri": "https://localhost:8080/",
          "height": 466
        },
        "id": "ViwC3cisATBh",
        "outputId": "ffb3287d-7a34-44a1-dfaa-ed68edb28315"
      },
      "source": [
        "# Alternate way\r\n",
        "# Creating the figure object\r\n",
        "\r\n",
        "ax = top_five_player_of_match.plot.bar(figsize = (10, 5) , fontsize = 15 , color = \"cyan\" , edgecolor = \"black\")\r\n",
        "\r\n",
        "# Setting the title\r\n",
        "\r\n",
        "ax.set_title(\"Most number of player of the match from season 2008-2019\" , fontsize = 20)\r\n",
        "\r\n",
        "# Setting x and y labels\r\n",
        "\r\n",
        "ax.set_xlabel(\"Player Names\" , fontsize = 15)\r\n",
        "ax.set_ylabel(\"Number of matches\" , fontsize = 15)\r\n"
      ],
      "execution_count": 17,
      "outputs": [
        {
          "output_type": "execute_result",
          "data": {
            "text/plain": [
              "Text(0, 0.5, 'Number of matches')"
            ]
          },
          "metadata": {
            "tags": []
          },
          "execution_count": 17
        },
        {
          "output_type": "display_data",
          "data": {
            "image/png": "[encoded data removed]",
            "text/plain": [
              "<Figure size 720x360 with 1 Axes>"
            ]
          },
          "metadata": {
            "tags": [],
            "needs_background": "light"
          }
        }
      ]
    },
    {
      "cell_type": "markdown",
      "metadata": {
        "id": "vsBGH8sAFYGr"
      },
      "source": [
        "*Ahh! seems like Chris Gayle is always in the form , as he lifted the player of the match trophy maximum number of times!!*"
      ]
    },
    {
      "cell_type": "markdown",
      "metadata": {
        "id": "bdSj829CJJFY"
      },
      "source": [
        "# Which season had the most the number IPL matches?"
      ]
    },
    {
      "cell_type": "code",
      "metadata": {
        "colab": {
          "base_uri": "https://localhost:8080/",
          "height": 445
        },
        "id": "e-cgsD5AFMro",
        "outputId": "f98f8980-3f85-4859-d910-66054723660b"
      },
      "source": [
        "matches_df.head()"
      ],
      "execution_count": 18,
      "outputs": [
        {
          "output_type": "execute_result",
          "data": {
            "text/html": [
              "<div>\n",
              "<style scoped>\n",
              "    .dataframe tbody tr th:only-of-type {\n",
              "        vertical-align: middle;\n",
              "    }\n",
              "\n",
              "    .dataframe tbody tr th {\n",
              "        vertical-align: top;\n",
              "    }\n",
              "\n",
              "    .dataframe thead th {\n",
              "        text-align: right;\n",
              "    }\n",
              "</style>\n",
              "<table border=\"1\" class=\"dataframe\">\n",
              "  <thead>\n",
              "    <tr style=\"text-align: right;\">\n",
              "      <th></th>\n",
              "      <th>id</th>\n",
              "      <th>Season</th>\n",
              "      <th>city</th>\n",
              "      <th>date</th>\n",
              "      <th>team1</th>\n",
              "      <th>team2</th>\n",
              "      <th>toss_winner</th>\n",
              "      <th>toss_decision</th>\n",
              "      <th>result</th>\n",
              "      <th>dl_applied</th>\n",
              "      <th>winner</th>\n",
              "      <th>win_by_runs</th>\n",
              "      <th>win_by_wickets</th>\n",
              "      <th>player_of_match</th>\n",
              "      <th>venue</th>\n",
              "      <th>umpire1</th>\n",
              "      <th>umpire2</th>\n",
              "      <th>umpire3</th>\n",
              "    </tr>\n",
              "  </thead>\n",
              "  <tbody>\n",
              "    <tr>\n",
              "      <th>0</th>\n",
              "      <td>1</td>\n",
              "      <td>IPL-2017</td>\n",
              "      <td>Hyderabad</td>\n",
              "      <td>05-04-2017</td>\n",
              "      <td>Sunrisers Hyderabad</td>\n",
              "      <td>Royal Challengers Bangalore</td>\n",
              "      <td>Royal Challengers Bangalore</td>\n",
              "      <td>field</td>\n",
              "      <td>normal</td>\n",
              "      <td>0</td>\n",
              "      <td>Sunrisers Hyderabad</td>\n",
              "      <td>35</td>\n",
              "      <td>0</td>\n",
              "      <td>Yuvraj Singh</td>\n",
              "      <td>Rajiv Gandhi International Stadium, Uppal</td>\n",
              "      <td>AY Dandekar</td>\n",
              "      <td>NJ Llong</td>\n",
              "      <td>NaN</td>\n",
              "    </tr>\n",
              "    <tr>\n",
              "      <th>1</th>\n",
              "      <td>2</td>\n",
              "      <td>IPL-2017</td>\n",
              "      <td>Pune</td>\n",
              "      <td>06-04-2017</td>\n",
              "      <td>Mumbai Indians</td>\n",
              "      <td>Rising Pune Supergiant</td>\n",
              "      <td>Rising Pune Supergiant</td>\n",
              "      <td>field</td>\n",
              "      <td>normal</td>\n",
              "      <td>0</td>\n",
              "      <td>Rising Pune Supergiant</td>\n",
              "      <td>0</td>\n",
              "      <td>7</td>\n",
              "      <td>SPD Smith</td>\n",
              "      <td>Maharashtra Cricket Association Stadium</td>\n",
              "      <td>A Nand Kishore</td>\n",
              "      <td>S Ravi</td>\n",
              "      <td>NaN</td>\n",
              "    </tr>\n",
              "    <tr>\n",
              "      <th>2</th>\n",
              "      <td>3</td>\n",
              "      <td>IPL-2017</td>\n",
              "      <td>Rajkot</td>\n",
              "      <td>07-04-2017</td>\n",
              "      <td>Gujarat Lions</td>\n",
              "      <td>Kolkata Knight Riders</td>\n",
              "      <td>Kolkata Knight Riders</td>\n",
              "      <td>field</td>\n",
              "      <td>normal</td>\n",
              "      <td>0</td>\n",
              "      <td>Kolkata Knight Riders</td>\n",
              "      <td>0</td>\n",
              "      <td>10</td>\n",
              "      <td>CA Lynn</td>\n",
              "      <td>Saurashtra Cricket Association Stadium</td>\n",
              "      <td>Nitin Menon</td>\n",
              "      <td>CK Nandan</td>\n",
              "      <td>NaN</td>\n",
              "    </tr>\n",
              "    <tr>\n",
              "      <th>3</th>\n",
              "      <td>4</td>\n",
              "      <td>IPL-2017</td>\n",
              "      <td>Indore</td>\n",
              "      <td>08-04-2017</td>\n",
              "      <td>Rising Pune Supergiant</td>\n",
              "      <td>Kings XI Punjab</td>\n",
              "      <td>Kings XI Punjab</td>\n",
              "      <td>field</td>\n",
              "      <td>normal</td>\n",
              "      <td>0</td>\n",
              "      <td>Kings XI Punjab</td>\n",
              "      <td>0</td>\n",
              "      <td>6</td>\n",
              "      <td>GJ Maxwell</td>\n",
              "      <td>Holkar Cricket Stadium</td>\n",
              "      <td>AK Chaudhary</td>\n",
              "      <td>C Shamshuddin</td>\n",
              "      <td>NaN</td>\n",
              "    </tr>\n",
              "    <tr>\n",
              "      <th>4</th>\n",
              "      <td>5</td>\n",
              "      <td>IPL-2017</td>\n",
              "      <td>Bangalore</td>\n",
              "      <td>08-04-2017</td>\n",
              "      <td>Royal Challengers Bangalore</td>\n",
              "      <td>Delhi Daredevils</td>\n",
              "      <td>Royal Challengers Bangalore</td>\n",
              "      <td>bat</td>\n",
              "      <td>normal</td>\n",
              "      <td>0</td>\n",
              "      <td>Royal Challengers Bangalore</td>\n",
              "      <td>15</td>\n",
              "      <td>0</td>\n",
              "      <td>KM Jadhav</td>\n",
              "      <td>M Chinnaswamy Stadium</td>\n",
              "      <td>NaN</td>\n",
              "      <td>NaN</td>\n",
              "      <td>NaN</td>\n",
              "    </tr>\n",
              "  </tbody>\n",
              "</table>\n",
              "</div>"
            ],
            "text/plain": [
              "   id    Season       city  ...         umpire1        umpire2 umpire3\n",
              "0   1  IPL-2017  Hyderabad  ...     AY Dandekar       NJ Llong     NaN\n",
              "1   2  IPL-2017       Pune  ...  A Nand Kishore         S Ravi     NaN\n",
              "2   3  IPL-2017     Rajkot  ...     Nitin Menon      CK Nandan     NaN\n",
              "3   4  IPL-2017     Indore  ...    AK Chaudhary  C Shamshuddin     NaN\n",
              "4   5  IPL-2017  Bangalore  ...             NaN            NaN     NaN\n",
              "\n",
              "[5 rows x 18 columns]"
            ]
          },
          "metadata": {
            "tags": []
          },
          "execution_count": 18
        }
      ]
    },
    {
      "cell_type": "code",
      "metadata": {
        "colab": {
          "base_uri": "https://localhost:8080/"
        },
        "id": "Hk2taoiHLew6",
        "outputId": "285b608b-4d17-4262-ca87-b62fbee06bba"
      },
      "source": [
        "matches_per_season = matches_df[\"Season\"].value_counts() # IPL-2013 season had the most number of matches\r\n",
        "matches_per_season"
      ],
      "execution_count": 84,
      "outputs": [
        {
          "output_type": "execute_result",
          "data": {
            "text/plain": [
              "IPL-2013    76\n",
              "IPL-2012    74\n",
              "IPL-2011    73\n",
              "IPL-2018    60\n",
              "IPL-2010    60\n",
              "IPL-2016    60\n",
              "IPL-2019    60\n",
              "IPL-2014    60\n",
              "IPL-2017    59\n",
              "IPL-2015    59\n",
              "IPL-2008    58\n",
              "IPL-2009    57\n",
              "Name: Season, dtype: int64"
            ]
          },
          "metadata": {
            "tags": []
          },
          "execution_count": 84
        }
      ]
    },
    {
      "cell_type": "code",
      "metadata": {
        "colab": {
          "base_uri": "https://localhost:8080/"
        },
        "id": "LNPcL4kTMQuA",
        "outputId": "305abac0-4589-415d-9e5e-b17409a963ec"
      },
      "source": [
        "matches_df[matches_df[\"Season\"] == \"IPL-2013\"][\"result\"].value_counts() # i.e only 2 match got tied, other 74 matches had clear winner"
      ],
      "execution_count": 20,
      "outputs": [
        {
          "output_type": "execute_result",
          "data": {
            "text/plain": [
              "normal    74\n",
              "tie        2\n",
              "Name: result, dtype: int64"
            ]
          },
          "metadata": {
            "tags": []
          },
          "execution_count": 20
        }
      ]
    },
    {
      "cell_type": "code",
      "metadata": {
        "colab": {
          "base_uri": "https://localhost:8080/",
          "height": 426
        },
        "id": "3Bj1OkQKY4of",
        "outputId": "d426fe9e-44b1-44ea-d305-d786afd39965"
      },
      "source": [
        "# creating a bar chart for the same\r\n",
        "\r\n",
        "matches_per_season.plot(kind = \"bar\" , color = \"g\")\r\n",
        "plt.title(\"Number of matches per season\" , fontsize = 15)\r\n",
        "plt.xlabel(\"Season\" ,  fontsize = 15)\r\n",
        "plt.ylabel(\"Count of matches\" , fontsize = 15)\r\n",
        "plt.xticks(fontsize = 10)\r\n",
        "plt.yticks(fontsize = 10)"
      ],
      "execution_count": 87,
      "outputs": [
        {
          "output_type": "execute_result",
          "data": {
            "text/plain": [
              "(array([ 0., 10., 20., 30., 40., 50., 60., 70., 80.]),\n",
              " <a list of 9 Text major ticklabel objects>)"
            ]
          },
          "metadata": {
            "tags": []
          },
          "execution_count": 87
        },
        {
          "output_type": "display_data",
          "data": {
            "image/png": "[encoded data removed]",
            "text/plain": [
              "<Figure size 720x360 with 1 Axes>"
            ]
          },
          "metadata": {
            "tags": []
          }
        }
      ]
    },
    {
      "cell_type": "code",
      "metadata": {
        "colab": {
          "base_uri": "https://localhost:8080/",
          "height": 480
        },
        "id": "44h8Ua6Lsb8w",
        "outputId": "7f947d9e-25c4-46ce-dd1c-59a89700e858"
      },
      "source": [
        "# We can plot this directly using countplot of seaborn too!!\r\n",
        "# Giving it a try!\r\n",
        "\r\n",
        "sns.countplot(matches_df[\"Season\"])\r\n",
        "plt.title(\"Number of matches per season\" , fontsize = 15)\r\n",
        "plt.xlabel(\"Season\" ,  fontsize = 15)\r\n",
        "plt.ylabel(\"Count of matches\" , fontsize = 15)\r\n",
        "plt.xticks(fontsize = 10 , rotation = \"vertical\")\r\n",
        "plt.yticks(fontsize = 10)"
      ],
      "execution_count": 93,
      "outputs": [
        {
          "output_type": "stream",
          "text": [
            "/usr/local/lib/python3.7/dist-packages/seaborn/_decorators.py:43: FutureWarning: Pass the following variable as a keyword arg: x. From version 0.12, the only valid positional argument will be `data`, and passing other arguments without an explicit keyword will result in an error or misinterpretation.\n",
            "  FutureWarning\n"
          ],
          "name": "stderr"
        },
        {
          "output_type": "execute_result",
          "data": {
            "text/plain": [
              "(array([ 0., 10., 20., 30., 40., 50., 60., 70., 80.]),\n",
              " <a list of 9 Text major ticklabel objects>)"
            ]
          },
          "metadata": {
            "tags": []
          },
          "execution_count": 93
        },
        {
          "output_type": "display_data",
          "data": {
            "image/png": "[encoded data removed]",
            "text/plain": [
              "<Figure size 720x360 with 1 Axes>"
            ]
          },
          "metadata": {
            "tags": []
          }
        }
      ]
    },
    {
      "cell_type": "markdown",
      "metadata": {
        "id": "eMebOtRlqxPz"
      },
      "source": [
        "Most matches were played in season 2011, 2012, 2013 and for other seasons, it's almost same number of matches!!\r\n",
        "\r\n",
        "There must be some reason:\r\n",
        "\r\n",
        "\r\n",
        "*   As far as I know, during these seasons there were 9 or 10 playing teams and hence contributing to more number of matches than other seasons\r\n",
        "\r\n",
        "\r\n",
        "*Let's check whether this statement is supported by our dataset or not!*\r\n",
        "\r\n",
        "\r\n",
        "\r\n"
      ]
    },
    {
      "cell_type": "code",
      "metadata": {
        "id": "6CVNEeMXY4k2"
      },
      "source": [
        ""
      ],
      "execution_count": null,
      "outputs": []
    },
    {
      "cell_type": "markdown",
      "metadata": {
        "id": "3PLis14-NTZn"
      },
      "source": [
        "# Which were the teams who batted first and won?"
      ]
    },
    {
      "cell_type": "markdown",
      "metadata": {
        "id": "FJJRm4FBNlge"
      },
      "source": [
        "*As we have the information of toss winner , toss decision , win_by_runs & win_by_wickets, we can address the above problem statement*\r\n",
        "\r\n",
        "\r\n",
        "\r\n",
        "*   Teams who batted first and won, must be won with some runs i.e. there should be win by runs greater than 0\r\n",
        "\r\n",
        "\r\n",
        "\r\n",
        "\r\n"
      ]
    },
    {
      "cell_type": "code",
      "metadata": {
        "colab": {
          "base_uri": "https://localhost:8080/"
        },
        "id": "WGGUWIAfPGAv",
        "outputId": "06fcd599-3de4-4f92-d822-72d4913198de"
      },
      "source": [
        "matches_df.info()"
      ],
      "execution_count": 21,
      "outputs": [
        {
          "output_type": "stream",
          "text": [
            "<class 'pandas.core.frame.DataFrame'>\n",
            "RangeIndex: 756 entries, 0 to 755\n",
            "Data columns (total 18 columns):\n",
            " #   Column           Non-Null Count  Dtype \n",
            "---  ------           --------------  ----- \n",
            " 0   id               756 non-null    int64 \n",
            " 1   Season           756 non-null    object\n",
            " 2   city             749 non-null    object\n",
            " 3   date             756 non-null    object\n",
            " 4   team1            756 non-null    object\n",
            " 5   team2            756 non-null    object\n",
            " 6   toss_winner      756 non-null    object\n",
            " 7   toss_decision    756 non-null    object\n",
            " 8   result           756 non-null    object\n",
            " 9   dl_applied       756 non-null    int64 \n",
            " 10  winner           752 non-null    object\n",
            " 11  win_by_runs      756 non-null    int64 \n",
            " 12  win_by_wickets   756 non-null    int64 \n",
            " 13  player_of_match  752 non-null    object\n",
            " 14  venue            756 non-null    object\n",
            " 15  umpire1          754 non-null    object\n",
            " 16  umpire2          754 non-null    object\n",
            " 17  umpire3          119 non-null    object\n",
            "dtypes: int64(4), object(14)\n",
            "memory usage: 106.4+ KB\n"
          ],
          "name": "stdout"
        }
      ]
    },
    {
      "cell_type": "code",
      "metadata": {
        "colab": {
          "base_uri": "https://localhost:8080/",
          "height": 428
        },
        "id": "2bfeh-YtFMiU",
        "outputId": "09bf2417-3af4-4b61-863f-55e9e54efdda"
      },
      "source": [
        "batted_first = matches_df[matches_df[\"win_by_runs\"] != 0].reset_index().drop(\"index\" , axis = 1) # win_by_runs already in int type\r\n",
        "batted_first.head()"
      ],
      "execution_count": 22,
      "outputs": [
        {
          "output_type": "execute_result",
          "data": {
            "text/html": [
              "<div>\n",
              "<style scoped>\n",
              "    .dataframe tbody tr th:only-of-type {\n",
              "        vertical-align: middle;\n",
              "    }\n",
              "\n",
              "    .dataframe tbody tr th {\n",
              "        vertical-align: top;\n",
              "    }\n",
              "\n",
              "    .dataframe thead th {\n",
              "        text-align: right;\n",
              "    }\n",
              "</style>\n",
              "<table border=\"1\" class=\"dataframe\">\n",
              "  <thead>\n",
              "    <tr style=\"text-align: right;\">\n",
              "      <th></th>\n",
              "      <th>id</th>\n",
              "      <th>Season</th>\n",
              "      <th>city</th>\n",
              "      <th>date</th>\n",
              "      <th>team1</th>\n",
              "      <th>team2</th>\n",
              "      <th>toss_winner</th>\n",
              "      <th>toss_decision</th>\n",
              "      <th>result</th>\n",
              "      <th>dl_applied</th>\n",
              "      <th>winner</th>\n",
              "      <th>win_by_runs</th>\n",
              "      <th>win_by_wickets</th>\n",
              "      <th>player_of_match</th>\n",
              "      <th>venue</th>\n",
              "      <th>umpire1</th>\n",
              "      <th>umpire2</th>\n",
              "      <th>umpire3</th>\n",
              "    </tr>\n",
              "  </thead>\n",
              "  <tbody>\n",
              "    <tr>\n",
              "      <th>0</th>\n",
              "      <td>1</td>\n",
              "      <td>IPL-2017</td>\n",
              "      <td>Hyderabad</td>\n",
              "      <td>05-04-2017</td>\n",
              "      <td>Sunrisers Hyderabad</td>\n",
              "      <td>Royal Challengers Bangalore</td>\n",
              "      <td>Royal Challengers Bangalore</td>\n",
              "      <td>field</td>\n",
              "      <td>normal</td>\n",
              "      <td>0</td>\n",
              "      <td>Sunrisers Hyderabad</td>\n",
              "      <td>35</td>\n",
              "      <td>0</td>\n",
              "      <td>Yuvraj Singh</td>\n",
              "      <td>Rajiv Gandhi International Stadium, Uppal</td>\n",
              "      <td>AY Dandekar</td>\n",
              "      <td>NJ Llong</td>\n",
              "      <td>NaN</td>\n",
              "    </tr>\n",
              "    <tr>\n",
              "      <th>1</th>\n",
              "      <td>5</td>\n",
              "      <td>IPL-2017</td>\n",
              "      <td>Bangalore</td>\n",
              "      <td>08-04-2017</td>\n",
              "      <td>Royal Challengers Bangalore</td>\n",
              "      <td>Delhi Daredevils</td>\n",
              "      <td>Royal Challengers Bangalore</td>\n",
              "      <td>bat</td>\n",
              "      <td>normal</td>\n",
              "      <td>0</td>\n",
              "      <td>Royal Challengers Bangalore</td>\n",
              "      <td>15</td>\n",
              "      <td>0</td>\n",
              "      <td>KM Jadhav</td>\n",
              "      <td>M Chinnaswamy Stadium</td>\n",
              "      <td>NaN</td>\n",
              "      <td>NaN</td>\n",
              "      <td>NaN</td>\n",
              "    </tr>\n",
              "    <tr>\n",
              "      <th>2</th>\n",
              "      <td>9</td>\n",
              "      <td>IPL-2017</td>\n",
              "      <td>Pune</td>\n",
              "      <td>11-04-2017</td>\n",
              "      <td>Delhi Daredevils</td>\n",
              "      <td>Rising Pune Supergiant</td>\n",
              "      <td>Rising Pune Supergiant</td>\n",
              "      <td>field</td>\n",
              "      <td>normal</td>\n",
              "      <td>0</td>\n",
              "      <td>Delhi Daredevils</td>\n",
              "      <td>97</td>\n",
              "      <td>0</td>\n",
              "      <td>SV Samson</td>\n",
              "      <td>Maharashtra Cricket Association Stadium</td>\n",
              "      <td>AY Dandekar</td>\n",
              "      <td>S Ravi</td>\n",
              "      <td>NaN</td>\n",
              "    </tr>\n",
              "    <tr>\n",
              "      <th>3</th>\n",
              "      <td>14</td>\n",
              "      <td>IPL-2017</td>\n",
              "      <td>Kolkata</td>\n",
              "      <td>15-04-2017</td>\n",
              "      <td>Kolkata Knight Riders</td>\n",
              "      <td>Sunrisers Hyderabad</td>\n",
              "      <td>Sunrisers Hyderabad</td>\n",
              "      <td>field</td>\n",
              "      <td>normal</td>\n",
              "      <td>0</td>\n",
              "      <td>Kolkata Knight Riders</td>\n",
              "      <td>17</td>\n",
              "      <td>0</td>\n",
              "      <td>RV Uthappa</td>\n",
              "      <td>Eden Gardens</td>\n",
              "      <td>AY Dandekar</td>\n",
              "      <td>NJ Llong</td>\n",
              "      <td>NaN</td>\n",
              "    </tr>\n",
              "    <tr>\n",
              "      <th>4</th>\n",
              "      <td>15</td>\n",
              "      <td>IPL-2017</td>\n",
              "      <td>Delhi</td>\n",
              "      <td>15-04-2017</td>\n",
              "      <td>Delhi Daredevils</td>\n",
              "      <td>Kings XI Punjab</td>\n",
              "      <td>Delhi Daredevils</td>\n",
              "      <td>bat</td>\n",
              "      <td>normal</td>\n",
              "      <td>0</td>\n",
              "      <td>Delhi Daredevils</td>\n",
              "      <td>51</td>\n",
              "      <td>0</td>\n",
              "      <td>CJ Anderson</td>\n",
              "      <td>Feroz Shah Kotla</td>\n",
              "      <td>YC Barde</td>\n",
              "      <td>Nitin Menon</td>\n",
              "      <td>NaN</td>\n",
              "    </tr>\n",
              "  </tbody>\n",
              "</table>\n",
              "</div>"
            ],
            "text/plain": [
              "   id    Season       city  ...      umpire1      umpire2 umpire3\n",
              "0   1  IPL-2017  Hyderabad  ...  AY Dandekar     NJ Llong     NaN\n",
              "1   5  IPL-2017  Bangalore  ...          NaN          NaN     NaN\n",
              "2   9  IPL-2017       Pune  ...  AY Dandekar       S Ravi     NaN\n",
              "3  14  IPL-2017    Kolkata  ...  AY Dandekar     NJ Llong     NaN\n",
              "4  15  IPL-2017      Delhi  ...     YC Barde  Nitin Menon     NaN\n",
              "\n",
              "[5 rows x 18 columns]"
            ]
          },
          "metadata": {
            "tags": []
          },
          "execution_count": 22
        }
      ]
    },
    {
      "cell_type": "code",
      "metadata": {
        "colab": {
          "base_uri": "https://localhost:8080/"
        },
        "id": "Wa2tLijVS7bG",
        "outputId": "6c839c6b-947f-40ff-a142-4758c9f12142"
      },
      "source": [
        "# 756 total matches played from 2008 - 2019\r\n",
        "\r\n",
        "matches_df.shape"
      ],
      "execution_count": 23,
      "outputs": [
        {
          "output_type": "execute_result",
          "data": {
            "text/plain": [
              "(756, 18)"
            ]
          },
          "metadata": {
            "tags": []
          },
          "execution_count": 23
        }
      ]
    },
    {
      "cell_type": "code",
      "metadata": {
        "colab": {
          "base_uri": "https://localhost:8080/"
        },
        "id": "AbYcNUW2TCbF",
        "outputId": "a9d27af8-4431-4c2b-a49c-87d76d573097"
      },
      "source": [
        "# 743 had clear winners , 9 were tie , 4 no results\r\n",
        "matches_df[\"result\"].value_counts()"
      ],
      "execution_count": 24,
      "outputs": [
        {
          "output_type": "execute_result",
          "data": {
            "text/plain": [
              "normal       743\n",
              "tie            9\n",
              "no result      4\n",
              "Name: result, dtype: int64"
            ]
          },
          "metadata": {
            "tags": []
          },
          "execution_count": 24
        }
      ]
    },
    {
      "cell_type": "code",
      "metadata": {
        "colab": {
          "base_uri": "https://localhost:8080/"
        },
        "id": "P689FUgBS1lb",
        "outputId": "3c64a627-53ea-4ffe-baca-b19bc11bf573"
      },
      "source": [
        "# Out of 743 normal matches, 337 matches were there where the team who batted first won!\r\n",
        "\r\n",
        "batted_first.shape"
      ],
      "execution_count": 25,
      "outputs": [
        {
          "output_type": "execute_result",
          "data": {
            "text/plain": [
              "(337, 18)"
            ]
          },
          "metadata": {
            "tags": []
          },
          "execution_count": 25
        }
      ]
    },
    {
      "cell_type": "code",
      "metadata": {
        "colab": {
          "base_uri": "https://localhost:8080/"
        },
        "id": "zdMK7Sc2P7oM",
        "outputId": "aa45ee8a-206f-4b98-a865-ecff7819c91c"
      },
      "source": [
        "# Teams who batted first and won\r\n",
        "\r\n",
        "batted_first[\"winner\"].value_counts() # with Mumbai Indians on the top"
      ],
      "execution_count": 26,
      "outputs": [
        {
          "output_type": "execute_result",
          "data": {
            "text/plain": [
              "Mumbai Indians                 57\n",
              "Chennai Super Kings            52\n",
              "Kings XI Punjab                38\n",
              "Kolkata Knight Riders          36\n",
              "Royal Challengers Bangalore    35\n",
              "Sunrisers Hyderabad            30\n",
              "Rajasthan Royals               27\n",
              "Delhi Daredevils               25\n",
              "Deccan Chargers                18\n",
              "Pune Warriors                   6\n",
              "Rising Pune Supergiant          5\n",
              "Delhi Capitals                  3\n",
              "Kochi Tuskers Kerala            2\n",
              "Rising Pune Supergiants         2\n",
              "Gujarat Lions                   1\n",
              "Name: winner, dtype: int64"
            ]
          },
          "metadata": {
            "tags": []
          },
          "execution_count": 26
        }
      ]
    },
    {
      "cell_type": "markdown",
      "metadata": {
        "id": "dYCtH1deRAGE"
      },
      "source": [
        "*Woahhh! seems like if Mumbai Indians elected to bat first, the other team is going HOME!!!*"
      ]
    },
    {
      "cell_type": "markdown",
      "metadata": {
        "id": "InrOgLt4ALSk"
      },
      "source": [
        "# Summary based of range of runs with which most of the team won!!"
      ]
    },
    {
      "cell_type": "code",
      "metadata": {
        "colab": {
          "base_uri": "https://localhost:8080/",
          "height": 204
        },
        "id": "yVtsoMzXAKyB",
        "outputId": "8f50638b-5441-4722-d902-5036dfff2593"
      },
      "source": [
        "# getting season wise win by runs distribution\r\n",
        "\r\n",
        "win_runs = matches_df[matches_df[\"win_by_runs\"] != 0][[\"Season\" , \"win_by_runs\"]].sort_values(by=\"win_by_runs\" , ascending = False)\r\n",
        "win_runs.head()"
      ],
      "execution_count": 27,
      "outputs": [
        {
          "output_type": "execute_result",
          "data": {
            "text/html": [
              "<div>\n",
              "<style scoped>\n",
              "    .dataframe tbody tr th:only-of-type {\n",
              "        vertical-align: middle;\n",
              "    }\n",
              "\n",
              "    .dataframe tbody tr th {\n",
              "        vertical-align: top;\n",
              "    }\n",
              "\n",
              "    .dataframe thead th {\n",
              "        text-align: right;\n",
              "    }\n",
              "</style>\n",
              "<table border=\"1\" class=\"dataframe\">\n",
              "  <thead>\n",
              "    <tr style=\"text-align: right;\">\n",
              "      <th></th>\n",
              "      <th>Season</th>\n",
              "      <th>win_by_runs</th>\n",
              "    </tr>\n",
              "  </thead>\n",
              "  <tbody>\n",
              "    <tr>\n",
              "      <th>43</th>\n",
              "      <td>IPL-2017</td>\n",
              "      <td>146</td>\n",
              "    </tr>\n",
              "    <tr>\n",
              "      <th>619</th>\n",
              "      <td>IPL-2016</td>\n",
              "      <td>144</td>\n",
              "    </tr>\n",
              "    <tr>\n",
              "      <th>59</th>\n",
              "      <td>IPL-2008</td>\n",
              "      <td>140</td>\n",
              "    </tr>\n",
              "    <tr>\n",
              "      <th>556</th>\n",
              "      <td>IPL-2015</td>\n",
              "      <td>138</td>\n",
              "    </tr>\n",
              "    <tr>\n",
              "      <th>410</th>\n",
              "      <td>IPL-2013</td>\n",
              "      <td>130</td>\n",
              "    </tr>\n",
              "  </tbody>\n",
              "</table>\n",
              "</div>"
            ],
            "text/plain": [
              "       Season  win_by_runs\n",
              "43   IPL-2017          146\n",
              "619  IPL-2016          144\n",
              "59   IPL-2008          140\n",
              "556  IPL-2015          138\n",
              "410  IPL-2013          130"
            ]
          },
          "metadata": {
            "tags": []
          },
          "execution_count": 27
        }
      ]
    },
    {
      "cell_type": "code",
      "metadata": {
        "colab": {
          "base_uri": "https://localhost:8080/",
          "height": 367
        },
        "id": "_EOwB6ZBBW0Z",
        "outputId": "5c80659b-c734-4ff2-d8e8-e6f2fda41f84"
      },
      "source": [
        "# creating box plot to get the common range of runs with which most of the teams won and identifying the outliers\r\n",
        "\r\n",
        "win_runs.plot(kind = \"box\" , vert = False) # vert = False to make it horizontal as in vertical it was not that much appealing\r\n",
        "plt.title('Summary of win by runs')\r\n",
        "plt.ylabel('Runs')\r\n",
        "plt.xlabel('Seasons')\r\n"
      ],
      "execution_count": 28,
      "outputs": [
        {
          "output_type": "execute_result",
          "data": {
            "text/plain": [
              "Text(0.5, 0, 'Seasons')"
            ]
          },
          "metadata": {
            "tags": []
          },
          "execution_count": 28
        },
        {
          "output_type": "display_data",
          "data": {
            "image/png": "[encoded data removed]",
            "text/plain": [
              "<Figure size 720x360 with 1 Axes>"
            ]
          },
          "metadata": {
            "tags": [],
            "needs_background": "light"
          }
        }
      ]
    },
    {
      "cell_type": "markdown",
      "metadata": {
        "id": "l9rLFOTFDfF7"
      },
      "source": [
        "*As we can see above most of the matches were won with the runs in between 15 to 40 and the runs above 80's are outliers here!!*"
      ]
    },
    {
      "cell_type": "code",
      "metadata": {
        "colab": {
          "base_uri": "https://localhost:8080/",
          "height": 424
        },
        "id": "CVe37aSDFF6m",
        "outputId": "ec8a52c5-eb86-4f7f-cb82-33df46e06944"
      },
      "source": [
        "# Alternatively, we can use scatterplot too to see the common range and outliers\r\n",
        "\r\n",
        "plt.scatter(win_runs[\"Season\"] , win_runs[\"win_by_runs\"])\r\n",
        "plt.title(\"Summary of win by runs\" , fontsize = 15)\r\n",
        "plt.xlabel(\"IPL Seasons (2008-2019)\" , fontsize = 15)\r\n",
        "plt.ylabel(\"Runs\" , fontsize = 15)\r\n",
        "plt.xticks(rotation = \"vertical\")"
      ],
      "execution_count": 29,
      "outputs": [
        {
          "output_type": "execute_result",
          "data": {
            "text/plain": [
              "([0, 1, 2, 3, 4, 5, 6, 7, 8, 9, 10, 11],\n",
              " <a list of 12 Text major ticklabel objects>)"
            ]
          },
          "metadata": {
            "tags": []
          },
          "execution_count": 29
        },
        {
          "output_type": "display_data",
          "data": {
            "image/png": "[encoded data removed]",
            "text/plain": [
              "<Figure size 720x360 with 1 Axes>"
            ]
          },
          "metadata": {
            "tags": [],
            "needs_background": "light"
          }
        }
      ]
    },
    {
      "cell_type": "code",
      "metadata": {
        "colab": {
          "base_uri": "https://localhost:8080/",
          "height": 792
        },
        "id": "jqLdxZCSBWvL",
        "outputId": "4703a417-9ff1-41c4-f0d7-ace80de650ee"
      },
      "source": [
        "# We can use the swarmplot too using seaborn library (somewhat similar to scatterplot or stripplot , only thing is datapoints are clear in swarmplot, they are not overlapping)\r\n",
        "\r\n",
        "# creating swarmplot\r\n",
        "\r\n",
        "plt.gcf().set_size_inches(15, 10)\r\n",
        "sns.swarmplot(win_runs[\"Season\"] , win_runs[\"win_by_runs\"] , size = 10)\r\n",
        "plt.title(\"Summary of win by runs\" , fontsize = 15)\r\n",
        "plt.xlabel(\"IPL Seasons (2008-2019)\" , fontsize = 15)\r\n",
        "plt.ylabel(\"Runs\" , fontsize = 15)\r\n",
        "plt.xticks(rotation = \"vertical\" , fontsize = 12)\r\n",
        "plt.yticks(fontsize = 12)"
      ],
      "execution_count": 30,
      "outputs": [
        {
          "output_type": "stream",
          "text": [
            "/usr/local/lib/python3.7/dist-packages/seaborn/_decorators.py:43: FutureWarning: Pass the following variables as keyword args: x, y. From version 0.12, the only valid positional argument will be `data`, and passing other arguments without an explicit keyword will result in an error or misinterpretation.\n",
            "  FutureWarning\n",
            "/usr/local/lib/python3.7/dist-packages/seaborn/categorical.py:1296: UserWarning: 7.1% of the points cannot be placed; you may want to decrease the size of the markers or use stripplot.\n",
            "  warnings.warn(msg, UserWarning)\n"
          ],
          "name": "stderr"
        },
        {
          "output_type": "execute_result",
          "data": {
            "text/plain": [
              "(array([-20.,   0.,  20.,  40.,  60.,  80., 100., 120., 140., 160.]),\n",
              " <a list of 10 Text major ticklabel objects>)"
            ]
          },
          "metadata": {
            "tags": []
          },
          "execution_count": 30
        },
        {
          "output_type": "display_data",
          "data": {
            "image/png": "[encoded data removed]",
            "text/plain": [
              "<Figure size 1080x720 with 1 Axes>"
            ]
          },
          "metadata": {
            "tags": [],
            "needs_background": "light"
          }
        }
      ]
    },
    {
      "cell_type": "markdown",
      "metadata": {
        "id": "KqdUUB31Iwqi"
      },
      "source": [
        "*We can easily find the Outliers here, above 80*"
      ]
    },
    {
      "cell_type": "code",
      "metadata": {
        "id": "q4xK7PbOBWrP"
      },
      "source": [
        ""
      ],
      "execution_count": 30,
      "outputs": []
    },
    {
      "cell_type": "markdown",
      "metadata": {
        "id": "AbDwaVs6Vr4e"
      },
      "source": [
        "# Max runs / wickets with which any team won in the history of IPL (2008-2019)?"
      ]
    },
    {
      "cell_type": "code",
      "metadata": {
        "colab": {
          "base_uri": "https://localhost:8080/",
          "height": 445
        },
        "id": "fuK4bhpCVrMq",
        "outputId": "ee041923-2cf1-4a6f-cdbe-80a20d3034dc"
      },
      "source": [
        "matches_df.head()"
      ],
      "execution_count": 31,
      "outputs": [
        {
          "output_type": "execute_result",
          "data": {
            "text/html": [
              "<div>\n",
              "<style scoped>\n",
              "    .dataframe tbody tr th:only-of-type {\n",
              "        vertical-align: middle;\n",
              "    }\n",
              "\n",
              "    .dataframe tbody tr th {\n",
              "        vertical-align: top;\n",
              "    }\n",
              "\n",
              "    .dataframe thead th {\n",
              "        text-align: right;\n",
              "    }\n",
              "</style>\n",
              "<table border=\"1\" class=\"dataframe\">\n",
              "  <thead>\n",
              "    <tr style=\"text-align: right;\">\n",
              "      <th></th>\n",
              "      <th>id</th>\n",
              "      <th>Season</th>\n",
              "      <th>city</th>\n",
              "      <th>date</th>\n",
              "      <th>team1</th>\n",
              "      <th>team2</th>\n",
              "      <th>toss_winner</th>\n",
              "      <th>toss_decision</th>\n",
              "      <th>result</th>\n",
              "      <th>dl_applied</th>\n",
              "      <th>winner</th>\n",
              "      <th>win_by_runs</th>\n",
              "      <th>win_by_wickets</th>\n",
              "      <th>player_of_match</th>\n",
              "      <th>venue</th>\n",
              "      <th>umpire1</th>\n",
              "      <th>umpire2</th>\n",
              "      <th>umpire3</th>\n",
              "    </tr>\n",
              "  </thead>\n",
              "  <tbody>\n",
              "    <tr>\n",
              "      <th>0</th>\n",
              "      <td>1</td>\n",
              "      <td>IPL-2017</td>\n",
              "      <td>Hyderabad</td>\n",
              "      <td>05-04-2017</td>\n",
              "      <td>Sunrisers Hyderabad</td>\n",
              "      <td>Royal Challengers Bangalore</td>\n",
              "      <td>Royal Challengers Bangalore</td>\n",
              "      <td>field</td>\n",
              "      <td>normal</td>\n",
              "      <td>0</td>\n",
              "      <td>Sunrisers Hyderabad</td>\n",
              "      <td>35</td>\n",
              "      <td>0</td>\n",
              "      <td>Yuvraj Singh</td>\n",
              "      <td>Rajiv Gandhi International Stadium, Uppal</td>\n",
              "      <td>AY Dandekar</td>\n",
              "      <td>NJ Llong</td>\n",
              "      <td>NaN</td>\n",
              "    </tr>\n",
              "    <tr>\n",
              "      <th>1</th>\n",
              "      <td>2</td>\n",
              "      <td>IPL-2017</td>\n",
              "      <td>Pune</td>\n",
              "      <td>06-04-2017</td>\n",
              "      <td>Mumbai Indians</td>\n",
              "      <td>Rising Pune Supergiant</td>\n",
              "      <td>Rising Pune Supergiant</td>\n",
              "      <td>field</td>\n",
              "      <td>normal</td>\n",
              "      <td>0</td>\n",
              "      <td>Rising Pune Supergiant</td>\n",
              "      <td>0</td>\n",
              "      <td>7</td>\n",
              "      <td>SPD Smith</td>\n",
              "      <td>Maharashtra Cricket Association Stadium</td>\n",
              "      <td>A Nand Kishore</td>\n",
              "      <td>S Ravi</td>\n",
              "      <td>NaN</td>\n",
              "    </tr>\n",
              "    <tr>\n",
              "      <th>2</th>\n",
              "      <td>3</td>\n",
              "      <td>IPL-2017</td>\n",
              "      <td>Rajkot</td>\n",
              "      <td>07-04-2017</td>\n",
              "      <td>Gujarat Lions</td>\n",
              "      <td>Kolkata Knight Riders</td>\n",
              "      <td>Kolkata Knight Riders</td>\n",
              "      <td>field</td>\n",
              "      <td>normal</td>\n",
              "      <td>0</td>\n",
              "      <td>Kolkata Knight Riders</td>\n",
              "      <td>0</td>\n",
              "      <td>10</td>\n",
              "      <td>CA Lynn</td>\n",
              "      <td>Saurashtra Cricket Association Stadium</td>\n",
              "      <td>Nitin Menon</td>\n",
              "      <td>CK Nandan</td>\n",
              "      <td>NaN</td>\n",
              "    </tr>\n",
              "    <tr>\n",
              "      <th>3</th>\n",
              "      <td>4</td>\n",
              "      <td>IPL-2017</td>\n",
              "      <td>Indore</td>\n",
              "      <td>08-04-2017</td>\n",
              "      <td>Rising Pune Supergiant</td>\n",
              "      <td>Kings XI Punjab</td>\n",
              "      <td>Kings XI Punjab</td>\n",
              "      <td>field</td>\n",
              "      <td>normal</td>\n",
              "      <td>0</td>\n",
              "      <td>Kings XI Punjab</td>\n",
              "      <td>0</td>\n",
              "      <td>6</td>\n",
              "      <td>GJ Maxwell</td>\n",
              "      <td>Holkar Cricket Stadium</td>\n",
              "      <td>AK Chaudhary</td>\n",
              "      <td>C Shamshuddin</td>\n",
              "      <td>NaN</td>\n",
              "    </tr>\n",
              "    <tr>\n",
              "      <th>4</th>\n",
              "      <td>5</td>\n",
              "      <td>IPL-2017</td>\n",
              "      <td>Bangalore</td>\n",
              "      <td>08-04-2017</td>\n",
              "      <td>Royal Challengers Bangalore</td>\n",
              "      <td>Delhi Daredevils</td>\n",
              "      <td>Royal Challengers Bangalore</td>\n",
              "      <td>bat</td>\n",
              "      <td>normal</td>\n",
              "      <td>0</td>\n",
              "      <td>Royal Challengers Bangalore</td>\n",
              "      <td>15</td>\n",
              "      <td>0</td>\n",
              "      <td>KM Jadhav</td>\n",
              "      <td>M Chinnaswamy Stadium</td>\n",
              "      <td>NaN</td>\n",
              "      <td>NaN</td>\n",
              "      <td>NaN</td>\n",
              "    </tr>\n",
              "  </tbody>\n",
              "</table>\n",
              "</div>"
            ],
            "text/plain": [
              "   id    Season       city  ...         umpire1        umpire2 umpire3\n",
              "0   1  IPL-2017  Hyderabad  ...     AY Dandekar       NJ Llong     NaN\n",
              "1   2  IPL-2017       Pune  ...  A Nand Kishore         S Ravi     NaN\n",
              "2   3  IPL-2017     Rajkot  ...     Nitin Menon      CK Nandan     NaN\n",
              "3   4  IPL-2017     Indore  ...    AK Chaudhary  C Shamshuddin     NaN\n",
              "4   5  IPL-2017  Bangalore  ...             NaN            NaN     NaN\n",
              "\n",
              "[5 rows x 18 columns]"
            ]
          },
          "metadata": {
            "tags": []
          },
          "execution_count": 31
        }
      ]
    },
    {
      "cell_type": "code",
      "metadata": {
        "colab": {
          "base_uri": "https://localhost:8080/"
        },
        "id": "rGAsEEc31r1h",
        "outputId": "004779c9-d9b5-407a-d667-75ba5dbdae9f"
      },
      "source": [
        "# getting match details and team which won with maximum margin of runs\r\n",
        "\r\n",
        "max_runs_win = matches_df.iloc[matches_df[\"win_by_runs\"].idxmax()]\r\n",
        "max_runs_win"
      ],
      "execution_count": 32,
      "outputs": [
        {
          "output_type": "execute_result",
          "data": {
            "text/plain": [
              "id                               44\n",
              "Season                     IPL-2017\n",
              "city                          Delhi\n",
              "date                     06-05-2017\n",
              "team1                Mumbai Indians\n",
              "team2              Delhi Daredevils\n",
              "toss_winner        Delhi Daredevils\n",
              "toss_decision                 field\n",
              "result                       normal\n",
              "dl_applied                        0\n",
              "winner               Mumbai Indians\n",
              "win_by_runs                     146\n",
              "win_by_wickets                    0\n",
              "player_of_match         LMP Simmons\n",
              "venue              Feroz Shah Kotla\n",
              "umpire1                 Nitin Menon\n",
              "umpire2                   CK Nandan\n",
              "umpire3                         NaN\n",
              "Name: 43, dtype: object"
            ]
          },
          "metadata": {
            "tags": []
          },
          "execution_count": 32
        }
      ]
    },
    {
      "cell_type": "code",
      "metadata": {
        "colab": {
          "base_uri": "https://localhost:8080/"
        },
        "id": "8KBo8sv0W6Oa",
        "outputId": "39498b90-8386-4540-e5d1-0e2ced8b7e34"
      },
      "source": [
        "print(f\"Team {max_runs_win['winner']} had won with the maximum runs {max_runs_win['win_by_runs']} ever in the history of IPL.\")"
      ],
      "execution_count": 33,
      "outputs": [
        {
          "output_type": "stream",
          "text": [
            "Team Mumbai Indians had won with the maximum runs 146 ever in the history of IPL.\n"
          ],
          "name": "stdout"
        }
      ]
    },
    {
      "cell_type": "markdown",
      "metadata": {
        "id": "NFz9D6ZFYdpZ"
      },
      "source": [
        "***Ahhann!! Mumbai Indians won't let you SHINE!!!***"
      ]
    },
    {
      "cell_type": "code",
      "metadata": {
        "colab": {
          "base_uri": "https://localhost:8080/"
        },
        "id": "QDyFSd1RYVHk",
        "outputId": "ce8994a5-a16a-4014-fcd9-05f74aa595a8"
      },
      "source": [
        "# getting team which won with the highest wickets in IPL history (this won't give much info as some other team might have won with 10 wicktes too)\r\n",
        "\r\n",
        "max_wickets_win = matches_df.iloc[matches_df[\"win_by_wickets\"].idxmax()]\r\n",
        "max_wickets_win"
      ],
      "execution_count": 34,
      "outputs": [
        {
          "output_type": "execute_result",
          "data": {
            "text/plain": [
              "id                                                      3\n",
              "Season                                           IPL-2017\n",
              "city                                               Rajkot\n",
              "date                                           07-04-2017\n",
              "team1                                       Gujarat Lions\n",
              "team2                               Kolkata Knight Riders\n",
              "toss_winner                         Kolkata Knight Riders\n",
              "toss_decision                                       field\n",
              "result                                             normal\n",
              "dl_applied                                              0\n",
              "winner                              Kolkata Knight Riders\n",
              "win_by_runs                                             0\n",
              "win_by_wickets                                         10\n",
              "player_of_match                                   CA Lynn\n",
              "venue              Saurashtra Cricket Association Stadium\n",
              "umpire1                                       Nitin Menon\n",
              "umpire2                                         CK Nandan\n",
              "umpire3                                               NaN\n",
              "Name: 2, dtype: object"
            ]
          },
          "metadata": {
            "tags": []
          },
          "execution_count": 34
        }
      ]
    },
    {
      "cell_type": "code",
      "metadata": {
        "colab": {
          "base_uri": "https://localhost:8080/"
        },
        "id": "orZ_C5ieYVEG",
        "outputId": "3f1f8e2e-1d74-40e2-874f-332a228d6859"
      },
      "source": [
        "print(f\"Team {max_wickets_win['winner']} had won with the maximum wickets {max_wickets_win['win_by_wickets']} ever in the history of IPL during season {max_wickets_win['Season']}.\")"
      ],
      "execution_count": 35,
      "outputs": [
        {
          "output_type": "stream",
          "text": [
            "Team Kolkata Knight Riders had won with the maximum wickets 10 ever in the history of IPL during season IPL-2017.\n"
          ],
          "name": "stdout"
        }
      ]
    },
    {
      "cell_type": "markdown",
      "metadata": {
        "id": "MdTTi8m9aJnd"
      },
      "source": [
        "*Finally, Shahrukh came into picture :D , KKR holds the record to beat opponent with no wickets lost of theirs!!*"
      ]
    },
    {
      "cell_type": "code",
      "metadata": {
        "colab": {
          "base_uri": "https://localhost:8080/",
          "height": 445
        },
        "id": "8kGExs-wcbcU",
        "outputId": "921a51da-13ad-42ce-97a0-0f1daefb6060"
      },
      "source": [
        "# As i said, win_by_wickets won't tell much\r\n",
        "\r\n",
        "a = matches_df[matches_df[\"win_by_wickets\"] == 10]\r\n",
        "a.head()"
      ],
      "execution_count": 36,
      "outputs": [
        {
          "output_type": "execute_result",
          "data": {
            "text/html": [
              "<div>\n",
              "<style scoped>\n",
              "    .dataframe tbody tr th:only-of-type {\n",
              "        vertical-align: middle;\n",
              "    }\n",
              "\n",
              "    .dataframe tbody tr th {\n",
              "        vertical-align: top;\n",
              "    }\n",
              "\n",
              "    .dataframe thead th {\n",
              "        text-align: right;\n",
              "    }\n",
              "</style>\n",
              "<table border=\"1\" class=\"dataframe\">\n",
              "  <thead>\n",
              "    <tr style=\"text-align: right;\">\n",
              "      <th></th>\n",
              "      <th>id</th>\n",
              "      <th>Season</th>\n",
              "      <th>city</th>\n",
              "      <th>date</th>\n",
              "      <th>team1</th>\n",
              "      <th>team2</th>\n",
              "      <th>toss_winner</th>\n",
              "      <th>toss_decision</th>\n",
              "      <th>result</th>\n",
              "      <th>dl_applied</th>\n",
              "      <th>winner</th>\n",
              "      <th>win_by_runs</th>\n",
              "      <th>win_by_wickets</th>\n",
              "      <th>player_of_match</th>\n",
              "      <th>venue</th>\n",
              "      <th>umpire1</th>\n",
              "      <th>umpire2</th>\n",
              "      <th>umpire3</th>\n",
              "    </tr>\n",
              "  </thead>\n",
              "  <tbody>\n",
              "    <tr>\n",
              "      <th>2</th>\n",
              "      <td>3</td>\n",
              "      <td>IPL-2017</td>\n",
              "      <td>Rajkot</td>\n",
              "      <td>07-04-2017</td>\n",
              "      <td>Gujarat Lions</td>\n",
              "      <td>Kolkata Knight Riders</td>\n",
              "      <td>Kolkata Knight Riders</td>\n",
              "      <td>field</td>\n",
              "      <td>normal</td>\n",
              "      <td>0</td>\n",
              "      <td>Kolkata Knight Riders</td>\n",
              "      <td>0</td>\n",
              "      <td>10</td>\n",
              "      <td>CA Lynn</td>\n",
              "      <td>Saurashtra Cricket Association Stadium</td>\n",
              "      <td>Nitin Menon</td>\n",
              "      <td>CK Nandan</td>\n",
              "      <td>NaN</td>\n",
              "    </tr>\n",
              "    <tr>\n",
              "      <th>34</th>\n",
              "      <td>35</td>\n",
              "      <td>IPL-2017</td>\n",
              "      <td>Chandigarh</td>\n",
              "      <td>30-04-2017</td>\n",
              "      <td>Delhi Daredevils</td>\n",
              "      <td>Kings XI Punjab</td>\n",
              "      <td>Kings XI Punjab</td>\n",
              "      <td>field</td>\n",
              "      <td>normal</td>\n",
              "      <td>0</td>\n",
              "      <td>Kings XI Punjab</td>\n",
              "      <td>0</td>\n",
              "      <td>10</td>\n",
              "      <td>Sandeep Sharma</td>\n",
              "      <td>Punjab Cricket Association IS Bindra Stadium, ...</td>\n",
              "      <td>YC Barde</td>\n",
              "      <td>CK Nandan</td>\n",
              "      <td>NaN</td>\n",
              "    </tr>\n",
              "    <tr>\n",
              "      <th>71</th>\n",
              "      <td>72</td>\n",
              "      <td>IPL-2008</td>\n",
              "      <td>Mumbai</td>\n",
              "      <td>27-04-2008</td>\n",
              "      <td>Mumbai Indians</td>\n",
              "      <td>Deccan Chargers</td>\n",
              "      <td>Deccan Chargers</td>\n",
              "      <td>field</td>\n",
              "      <td>normal</td>\n",
              "      <td>0</td>\n",
              "      <td>Deccan Chargers</td>\n",
              "      <td>0</td>\n",
              "      <td>10</td>\n",
              "      <td>AC Gilchrist</td>\n",
              "      <td>Dr DY Patil Sports Academy</td>\n",
              "      <td>Asad Rauf</td>\n",
              "      <td>SL Shastri</td>\n",
              "      <td>NaN</td>\n",
              "    </tr>\n",
              "    <tr>\n",
              "      <th>119</th>\n",
              "      <td>120</td>\n",
              "      <td>IPL-2009</td>\n",
              "      <td>Cape Town</td>\n",
              "      <td>19-04-2009</td>\n",
              "      <td>Kings XI Punjab</td>\n",
              "      <td>Delhi Daredevils</td>\n",
              "      <td>Delhi Daredevils</td>\n",
              "      <td>field</td>\n",
              "      <td>normal</td>\n",
              "      <td>1</td>\n",
              "      <td>Delhi Daredevils</td>\n",
              "      <td>0</td>\n",
              "      <td>10</td>\n",
              "      <td>DL Vettori</td>\n",
              "      <td>Newlands</td>\n",
              "      <td>MR Benson</td>\n",
              "      <td>SD Ranade</td>\n",
              "      <td>NaN</td>\n",
              "    </tr>\n",
              "    <tr>\n",
              "      <th>183</th>\n",
              "      <td>184</td>\n",
              "      <td>IPL-2010</td>\n",
              "      <td>Bangalore</td>\n",
              "      <td>18-03-2010</td>\n",
              "      <td>Rajasthan Royals</td>\n",
              "      <td>Royal Challengers Bangalore</td>\n",
              "      <td>Royal Challengers Bangalore</td>\n",
              "      <td>field</td>\n",
              "      <td>normal</td>\n",
              "      <td>0</td>\n",
              "      <td>Royal Challengers Bangalore</td>\n",
              "      <td>0</td>\n",
              "      <td>10</td>\n",
              "      <td>JH Kallis</td>\n",
              "      <td>M Chinnaswamy Stadium</td>\n",
              "      <td>K Hariharan</td>\n",
              "      <td>DJ Harper</td>\n",
              "      <td>NaN</td>\n",
              "    </tr>\n",
              "  </tbody>\n",
              "</table>\n",
              "</div>"
            ],
            "text/plain": [
              "      id    Season        city  ...      umpire1     umpire2 umpire3\n",
              "2      3  IPL-2017      Rajkot  ...  Nitin Menon   CK Nandan     NaN\n",
              "34    35  IPL-2017  Chandigarh  ...     YC Barde   CK Nandan     NaN\n",
              "71    72  IPL-2008      Mumbai  ...    Asad Rauf  SL Shastri     NaN\n",
              "119  120  IPL-2009   Cape Town  ...    MR Benson   SD Ranade     NaN\n",
              "183  184  IPL-2010   Bangalore  ...  K Hariharan   DJ Harper     NaN\n",
              "\n",
              "[5 rows x 18 columns]"
            ]
          },
          "metadata": {
            "tags": []
          },
          "execution_count": 36
        }
      ]
    },
    {
      "cell_type": "code",
      "metadata": {
        "colab": {
          "base_uri": "https://localhost:8080/"
        },
        "id": "AsVuIid7ePyY",
        "outputId": "9c85a4b7-cb1e-4a90-e186-e19050b0912a"
      },
      "source": [
        "a.shape # 11 matches were there in which teams won without losing their single wicket"
      ],
      "execution_count": 37,
      "outputs": [
        {
          "output_type": "execute_result",
          "data": {
            "text/plain": [
              "(11, 18)"
            ]
          },
          "metadata": {
            "tags": []
          },
          "execution_count": 37
        }
      ]
    },
    {
      "cell_type": "code",
      "metadata": {
        "colab": {
          "base_uri": "https://localhost:8080/"
        },
        "id": "RLBgXXOteuVR",
        "outputId": "f846cf32-11d2-4888-c757-d91738ca0704"
      },
      "source": [
        "a[\"winner\"].value_counts() # with RCB on the top which won 3 matches without losing single wicket"
      ],
      "execution_count": 38,
      "outputs": [
        {
          "output_type": "execute_result",
          "data": {
            "text/plain": [
              "Royal Challengers Bangalore    3\n",
              "Kings XI Punjab                1\n",
              "Delhi Daredevils               1\n",
              "Deccan Chargers                1\n",
              "Mumbai Indians                 1\n",
              "Sunrisers Hyderabad            1\n",
              "Kolkata Knight Riders          1\n",
              "Rajasthan Royals               1\n",
              "Chennai Super Kings            1\n",
              "Name: winner, dtype: int64"
            ]
          },
          "metadata": {
            "tags": []
          },
          "execution_count": 38
        }
      ]
    },
    {
      "cell_type": "markdown",
      "metadata": {
        "id": "ErCwPMhZEqrn"
      },
      "source": [
        "*That's interesting the team which never won IPL trophy had won the maximum number of matches without losing a single wicket!!*"
      ]
    },
    {
      "cell_type": "markdown",
      "metadata": {
        "id": "8eFwVdwCpeuZ"
      },
      "source": [
        "# Number of wins by each team"
      ]
    },
    {
      "cell_type": "markdown",
      "metadata": {
        "id": "f_PchNpEcn5f"
      },
      "source": [
        "*Will get to know team with the most number of wins*"
      ]
    },
    {
      "cell_type": "code",
      "metadata": {
        "colab": {
          "base_uri": "https://localhost:8080/"
        },
        "id": "k-mNbPP7cyPn",
        "outputId": "53130e72-fd07-4e6a-87ae-65af26fb9b75"
      },
      "source": [
        "# getting wins for each team\r\n",
        "\r\n",
        "wins = matches_df[\"winner\"].value_counts()\r\n",
        "wins"
      ],
      "execution_count": 39,
      "outputs": [
        {
          "output_type": "execute_result",
          "data": {
            "text/plain": [
              "Mumbai Indians                 109\n",
              "Chennai Super Kings            100\n",
              "Kolkata Knight Riders           92\n",
              "Royal Challengers Bangalore     84\n",
              "Kings XI Punjab                 82\n",
              "Rajasthan Royals                75\n",
              "Delhi Daredevils                67\n",
              "Sunrisers Hyderabad             58\n",
              "Deccan Chargers                 29\n",
              "Gujarat Lions                   13\n",
              "Pune Warriors                   12\n",
              "Delhi Capitals                  10\n",
              "Rising Pune Supergiant          10\n",
              "Kochi Tuskers Kerala             6\n",
              "Rising Pune Supergiants          5\n",
              "Name: winner, dtype: int64"
            ]
          },
          "metadata": {
            "tags": []
          },
          "execution_count": 39
        }
      ]
    },
    {
      "cell_type": "code",
      "metadata": {
        "colab": {
          "base_uri": "https://localhost:8080/",
          "height": 506
        },
        "id": "L7NeHPMQcyM7",
        "outputId": "51d056c7-5f19-4c83-ae62-b479bac173fc"
      },
      "source": [
        "# Creating the figure object\r\n",
        "\r\n",
        "# Setting the style to grid\r\n",
        "sns.set(style = \"darkgrid\")\r\n",
        "\r\n",
        "# getting bar blot with different colors of each bar\r\n",
        "wins.plot(kind = \"bar\" , \r\n",
        "          color = ['firebrick', 'green', 'blue', 'black', 'red',\r\n",
        "                  'purple', 'seagreen', 'skyblue', 'black', 'tomato'])\r\n",
        "\r\n",
        "plt.xticks(fontsize = 10) # setting the fontsize\r\n",
        "plt.yticks(fontsize = 10) #setting the fontsize\r\n",
        "plt.xlabel(\"Team Name\") #labelling the x axis\r\n",
        "plt.ylabel(\"Number of wins\") #labelling the y axis\r\n",
        "plt.title(\"Total wins by each team\") #setting the title of the plot\r\n",
        "\r\n",
        "\r\n",
        "# Trying to put the respective bar values\r\n",
        "\r\n",
        "# for index , value in enumerate(wins):\r\n",
        "#   # print(i)\r\n",
        "#   plt.text(value , index , str(value))\r\n",
        "\r\n",
        "\r\n"
      ],
      "execution_count": 40,
      "outputs": [
        {
          "output_type": "execute_result",
          "data": {
            "text/plain": [
              "Text(0.5, 1.0, 'Total wins by each team')"
            ]
          },
          "metadata": {
            "tags": []
          },
          "execution_count": 40
        },
        {
          "output_type": "display_data",
          "data": {
            "image/png": "[encoded data removed]",
            "text/plain": [
              "<Figure size 720x360 with 1 Axes>"
            ]
          },
          "metadata": {
            "tags": []
          }
        }
      ]
    },
    {
      "cell_type": "markdown",
      "metadata": {
        "id": "q8ilXW3-wAb5"
      },
      "source": [
        "*Ohh! right now, we find out that the best team of IPL till 2019 was Mumbai Indians and then after CSK!!* *Not bad!!*"
      ]
    },
    {
      "cell_type": "markdown",
      "metadata": {
        "id": "-BAnJD6oyHL-"
      },
      "source": [
        "# Which city hosted the most number of matches?"
      ]
    },
    {
      "cell_type": "code",
      "metadata": {
        "colab": {
          "base_uri": "https://localhost:8080/"
        },
        "id": "Bil6c_7acyFy",
        "outputId": "e19bc7b7-370f-4c52-b51a-3baca46a2103"
      },
      "source": [
        "city_most_matches = matches_df[\"city\"].value_counts()\r\n",
        "city_most_matches.head() # mumbai being the top\r\n",
        "\r\n",
        "# we can do bar chart here as well"
      ],
      "execution_count": 94,
      "outputs": [
        {
          "output_type": "execute_result",
          "data": {
            "text/plain": [
              "Mumbai            101\n",
              "Kolkata            77\n",
              "Delhi              74\n",
              "Bangalore          66\n",
              "Hyderabad          64\n",
              "Chennai            57\n",
              "Jaipur             47\n",
              "Chandigarh         46\n",
              "Pune               38\n",
              "Durban             15\n",
              "Bengaluru          14\n",
              "Visakhapatnam      13\n",
              "Ahmedabad          12\n",
              "Centurion          12\n",
              "Mohali             10\n",
              "Rajkot             10\n",
              "Dharamsala          9\n",
              "Indore              9\n",
              "Johannesburg        8\n",
              "Cape Town           7\n",
              "Abu Dhabi           7\n",
              "Cuttack             7\n",
              "Port Elizabeth      7\n",
              "Ranchi              7\n",
              "Raipur              6\n",
              "Sharjah             6\n",
              "Kochi               5\n",
              "Kanpur              4\n",
              "Kimberley           3\n",
              "Nagpur              3\n",
              "East London         3\n",
              "Bloemfontein        2\n",
              "Name: city, dtype: int64"
            ]
          },
          "metadata": {
            "tags": []
          },
          "execution_count": 94
        }
      ]
    },
    {
      "cell_type": "markdown",
      "metadata": {
        "id": "ODhFcr4c6Rdn"
      },
      "source": [
        "*Most of the matches were played at the home ground*"
      ]
    },
    {
      "cell_type": "markdown",
      "metadata": {
        "id": "M_3wuSj66AHg"
      },
      "source": [
        "# Number of matches hosted in each stadium"
      ]
    },
    {
      "cell_type": "code",
      "metadata": {
        "colab": {
          "base_uri": "https://localhost:8080/"
        },
        "id": "fE60jqLn8HuF",
        "outputId": "d972d691-ba83-4c3c-c682-37a27e557bf3"
      },
      "source": [
        "matches_df.info()"
      ],
      "execution_count": 42,
      "outputs": [
        {
          "output_type": "stream",
          "text": [
            "<class 'pandas.core.frame.DataFrame'>\n",
            "RangeIndex: 756 entries, 0 to 755\n",
            "Data columns (total 18 columns):\n",
            " #   Column           Non-Null Count  Dtype \n",
            "---  ------           --------------  ----- \n",
            " 0   id               756 non-null    int64 \n",
            " 1   Season           756 non-null    object\n",
            " 2   city             749 non-null    object\n",
            " 3   date             756 non-null    object\n",
            " 4   team1            756 non-null    object\n",
            " 5   team2            756 non-null    object\n",
            " 6   toss_winner      756 non-null    object\n",
            " 7   toss_decision    756 non-null    object\n",
            " 8   result           756 non-null    object\n",
            " 9   dl_applied       756 non-null    int64 \n",
            " 10  winner           752 non-null    object\n",
            " 11  win_by_runs      756 non-null    int64 \n",
            " 12  win_by_wickets   756 non-null    int64 \n",
            " 13  player_of_match  752 non-null    object\n",
            " 14  venue            756 non-null    object\n",
            " 15  umpire1          754 non-null    object\n",
            " 16  umpire2          754 non-null    object\n",
            " 17  umpire3          119 non-null    object\n",
            "dtypes: int64(4), object(14)\n",
            "memory usage: 106.4+ KB\n"
          ],
          "name": "stdout"
        }
      ]
    },
    {
      "cell_type": "markdown",
      "metadata": {
        "id": "if9LmFD38U30"
      },
      "source": [
        "```\r\n",
        "Null values for city = 7\r\n",
        "\r\n",
        "Null values for venue = 0\r\n",
        "\r\n",
        "Even if we add 7 to the count of Kolkata it will be 77 + 7 = 84 (still less than than of Mumbai)\r\n",
        "```"
      ]
    },
    {
      "cell_type": "code",
      "metadata": {
        "colab": {
          "base_uri": "https://localhost:8080/"
        },
        "id": "iIXBtTfR5kQh",
        "outputId": "b2dca8ed-27b3-418f-ef28-865b8fab5885"
      },
      "source": [
        "matches_df[\"venue\"].value_counts()[0:5] # eden gardens hosted the most number of matches"
      ],
      "execution_count": 43,
      "outputs": [
        {
          "output_type": "execute_result",
          "data": {
            "text/plain": [
              "Eden Gardens                                 77\n",
              "Wankhede Stadium                             73\n",
              "M Chinnaswamy Stadium                        73\n",
              "Feroz Shah Kotla                             67\n",
              "Rajiv Gandhi International Stadium, Uppal    56\n",
              "Name: venue, dtype: int64"
            ]
          },
          "metadata": {
            "tags": []
          },
          "execution_count": 43
        }
      ]
    },
    {
      "cell_type": "code",
      "metadata": {
        "colab": {
          "base_uri": "https://localhost:8080/"
        },
        "id": "LVmp8FQ_3oWJ",
        "outputId": "c7a8c09e-fd5e-4e84-e8e5-038ccf13b9e2"
      },
      "source": [
        "# matches_df[\"venue\"].value_counts()"
      ],
      "execution_count": 106,
      "outputs": [
        {
          "output_type": "execute_result",
          "data": {
            "text/plain": [
              "Eden Gardens                                            77\n",
              "Wankhede Stadium                                        73\n",
              "M Chinnaswamy Stadium                                   73\n",
              "Feroz Shah Kotla                                        67\n",
              "Rajiv Gandhi International Stadium, Uppal               56\n",
              "MA Chidambaram Stadium, Chepauk                         49\n",
              "Sawai Mansingh Stadium                                  47\n",
              "Punjab Cricket Association Stadium, Mohali              35\n",
              "Maharashtra Cricket Association Stadium                 21\n",
              "Dr DY Patil Sports Academy                              17\n",
              "Subrata Roy Sahara Stadium                              17\n",
              "Kingsmead                                               15\n",
              "Punjab Cricket Association IS Bindra Stadium, Mohali    14\n",
              "Sardar Patel Stadium, Motera                            12\n",
              "SuperSport Park                                         12\n",
              "Brabourne Stadium                                       11\n",
              "Dr. Y.S. Rajasekhara Reddy ACA-VDCA Cricket Stadium     11\n",
              "Saurashtra Cricket Association Stadium                  10\n",
              "Holkar Cricket Stadium                                   9\n",
              "Himachal Pradesh Cricket Association Stadium             9\n",
              "M. A. Chidambaram Stadium                                8\n",
              "Rajiv Gandhi Intl. Cricket Stadium                       8\n",
              "New Wanderers Stadium                                    8\n",
              "Sheikh Zayed Stadium                                     7\n",
              "Newlands                                                 7\n",
              "Barabati Stadium                                         7\n",
              "IS Bindra Stadium                                        7\n",
              "Feroz Shah Kotla Ground                                  7\n",
              "M. Chinnaswamy Stadium                                   7\n",
              "St George's Park                                         7\n",
              "Dubai International Cricket Stadium                      7\n",
              "JSCA International Stadium Complex                       7\n",
              "Sharjah Cricket Stadium                                  6\n",
              "Shaheed Veer Narayan Singh International Stadium         6\n",
              "Nehru Stadium                                            5\n",
              "Green Park                                               4\n",
              "Vidarbha Cricket Association Stadium, Jamtha             3\n",
              "Buffalo Park                                             3\n",
              "De Beers Diamond Oval                                    3\n",
              "ACA-VDCA Stadium                                         2\n",
              "OUTsurance Oval                                          2\n",
              "Name: venue, dtype: int64"
            ]
          },
          "metadata": {
            "tags": []
          },
          "execution_count": 106
        }
      ]
    },
    {
      "cell_type": "markdown",
      "metadata": {
        "id": "7zrq5mtW7D-d"
      },
      "source": [
        "**Here's the interesting thing coming out of it:**\r\n",
        "\r\n",
        "\r\n",
        "*  Mumbai has hosted most number of the matches as we saw above \"BUT\" Wankhede is not at the top.\r\n",
        "*  Eden Gardens is in the top which is in Kolkata.\r\n",
        "* Our data is not telling us what we expected.\r\n",
        "* But simple the reason for this is Mumbai has more number of stadiums(one of which is DY Patil Stadium other than Wankhede)\r\n",
        "* When we combine for both we will get (73 + 17 = 90). Now, this statisfies the fact that Mumbai hosted the most number of matches!!\r\n",
        "\r\n"
      ]
    },
    {
      "cell_type": "markdown",
      "metadata": {
        "id": "T2W77aslT-Va"
      },
      "source": [
        "# Eden Gardens (Kolkata) & Wankhede (Mumbai) being on the top 2 stadium with most number of matches hosted!!\r\n",
        "\r\n",
        "#*So, let's see what were the outcomes when matches were played in these 2 stadium!!*"
      ]
    },
    {
      "cell_type": "code",
      "metadata": {
        "colab": {
          "base_uri": "https://localhost:8080/",
          "height": 394
        },
        "id": "o_4V259NUj2x",
        "outputId": "a19240c9-33cb-4329-c305-98acd4343de2"
      },
      "source": [
        "# getting match details that held on eden gardens\r\n",
        "\r\n",
        "eden = matches_df[matches_df[\"venue\"] == \"Eden Gardens\"]\r\n",
        "eden.head()"
      ],
      "execution_count": 60,
      "outputs": [
        {
          "output_type": "execute_result",
          "data": {
            "text/html": [
              "<div>\n",
              "<style scoped>\n",
              "    .dataframe tbody tr th:only-of-type {\n",
              "        vertical-align: middle;\n",
              "    }\n",
              "\n",
              "    .dataframe tbody tr th {\n",
              "        vertical-align: top;\n",
              "    }\n",
              "\n",
              "    .dataframe thead th {\n",
              "        text-align: right;\n",
              "    }\n",
              "</style>\n",
              "<table border=\"1\" class=\"dataframe\">\n",
              "  <thead>\n",
              "    <tr style=\"text-align: right;\">\n",
              "      <th></th>\n",
              "      <th>id</th>\n",
              "      <th>Season</th>\n",
              "      <th>city</th>\n",
              "      <th>date</th>\n",
              "      <th>team1</th>\n",
              "      <th>team2</th>\n",
              "      <th>toss_winner</th>\n",
              "      <th>toss_decision</th>\n",
              "      <th>result</th>\n",
              "      <th>dl_applied</th>\n",
              "      <th>winner</th>\n",
              "      <th>win_by_runs</th>\n",
              "      <th>win_by_wickets</th>\n",
              "      <th>player_of_match</th>\n",
              "      <th>venue</th>\n",
              "      <th>umpire1</th>\n",
              "      <th>umpire2</th>\n",
              "      <th>umpire3</th>\n",
              "    </tr>\n",
              "  </thead>\n",
              "  <tbody>\n",
              "    <tr>\n",
              "      <th>10</th>\n",
              "      <td>11</td>\n",
              "      <td>IPL-2017</td>\n",
              "      <td>Kolkata</td>\n",
              "      <td>13-04-2017</td>\n",
              "      <td>Kings XI Punjab</td>\n",
              "      <td>Kolkata Knight Riders</td>\n",
              "      <td>Kolkata Knight Riders</td>\n",
              "      <td>field</td>\n",
              "      <td>normal</td>\n",
              "      <td>0</td>\n",
              "      <td>Kolkata Knight Riders</td>\n",
              "      <td>0</td>\n",
              "      <td>8</td>\n",
              "      <td>SP Narine</td>\n",
              "      <td>Eden Gardens</td>\n",
              "      <td>A Deshmukh</td>\n",
              "      <td>NJ Llong</td>\n",
              "      <td>NaN</td>\n",
              "    </tr>\n",
              "    <tr>\n",
              "      <th>13</th>\n",
              "      <td>14</td>\n",
              "      <td>IPL-2017</td>\n",
              "      <td>Kolkata</td>\n",
              "      <td>15-04-2017</td>\n",
              "      <td>Kolkata Knight Riders</td>\n",
              "      <td>Sunrisers Hyderabad</td>\n",
              "      <td>Sunrisers Hyderabad</td>\n",
              "      <td>field</td>\n",
              "      <td>normal</td>\n",
              "      <td>0</td>\n",
              "      <td>Kolkata Knight Riders</td>\n",
              "      <td>17</td>\n",
              "      <td>0</td>\n",
              "      <td>RV Uthappa</td>\n",
              "      <td>Eden Gardens</td>\n",
              "      <td>AY Dandekar</td>\n",
              "      <td>NJ Llong</td>\n",
              "      <td>NaN</td>\n",
              "    </tr>\n",
              "    <tr>\n",
              "      <th>22</th>\n",
              "      <td>23</td>\n",
              "      <td>IPL-2017</td>\n",
              "      <td>Kolkata</td>\n",
              "      <td>21-04-2017</td>\n",
              "      <td>Kolkata Knight Riders</td>\n",
              "      <td>Gujarat Lions</td>\n",
              "      <td>Gujarat Lions</td>\n",
              "      <td>field</td>\n",
              "      <td>normal</td>\n",
              "      <td>0</td>\n",
              "      <td>Gujarat Lions</td>\n",
              "      <td>0</td>\n",
              "      <td>4</td>\n",
              "      <td>SK Raina</td>\n",
              "      <td>Eden Gardens</td>\n",
              "      <td>CB Gaffaney</td>\n",
              "      <td>Nitin Menon</td>\n",
              "      <td>NaN</td>\n",
              "    </tr>\n",
              "    <tr>\n",
              "      <th>26</th>\n",
              "      <td>27</td>\n",
              "      <td>IPL-2017</td>\n",
              "      <td>Kolkata</td>\n",
              "      <td>23-04-2017</td>\n",
              "      <td>Kolkata Knight Riders</td>\n",
              "      <td>Royal Challengers Bangalore</td>\n",
              "      <td>Royal Challengers Bangalore</td>\n",
              "      <td>field</td>\n",
              "      <td>normal</td>\n",
              "      <td>0</td>\n",
              "      <td>Kolkata Knight Riders</td>\n",
              "      <td>82</td>\n",
              "      <td>0</td>\n",
              "      <td>NM Coulter-Nile</td>\n",
              "      <td>Eden Gardens</td>\n",
              "      <td>CB Gaffaney</td>\n",
              "      <td>CK Nandan</td>\n",
              "      <td>NaN</td>\n",
              "    </tr>\n",
              "    <tr>\n",
              "      <th>30</th>\n",
              "      <td>31</td>\n",
              "      <td>IPL-2017</td>\n",
              "      <td>Kolkata</td>\n",
              "      <td>28-04-2017</td>\n",
              "      <td>Delhi Daredevils</td>\n",
              "      <td>Kolkata Knight Riders</td>\n",
              "      <td>Kolkata Knight Riders</td>\n",
              "      <td>field</td>\n",
              "      <td>normal</td>\n",
              "      <td>0</td>\n",
              "      <td>Kolkata Knight Riders</td>\n",
              "      <td>0</td>\n",
              "      <td>7</td>\n",
              "      <td>G Gambhir</td>\n",
              "      <td>Eden Gardens</td>\n",
              "      <td>NJ Llong</td>\n",
              "      <td>S Ravi</td>\n",
              "      <td>NaN</td>\n",
              "    </tr>\n",
              "  </tbody>\n",
              "</table>\n",
              "</div>"
            ],
            "text/plain": [
              "    id    Season     city  ...      umpire1      umpire2 umpire3\n",
              "10  11  IPL-2017  Kolkata  ...   A Deshmukh     NJ Llong     NaN\n",
              "13  14  IPL-2017  Kolkata  ...  AY Dandekar     NJ Llong     NaN\n",
              "22  23  IPL-2017  Kolkata  ...  CB Gaffaney  Nitin Menon     NaN\n",
              "26  27  IPL-2017  Kolkata  ...  CB Gaffaney    CK Nandan     NaN\n",
              "30  31  IPL-2017  Kolkata  ...     NJ Llong       S Ravi     NaN\n",
              "\n",
              "[5 rows x 18 columns]"
            ]
          },
          "metadata": {
            "tags": []
          },
          "execution_count": 60
        }
      ]
    },
    {
      "cell_type": "code",
      "metadata": {
        "id": "wmLkdv9sUjyu"
      },
      "source": [
        "# getting matches which were won when batted first in eden gardens\r\n",
        "\r\n",
        "eden_win_by_runs = eden[eden[\"win_by_runs\"] != 0]\r\n",
        "\r\n",
        "# getting matches which were won when batted second in eden gardens\r\n",
        "\r\n",
        "eden_win_by_wickets = eden[eden[\"win_by_wickets\"] != 0]"
      ],
      "execution_count": 62,
      "outputs": []
    },
    {
      "cell_type": "code",
      "metadata": {
        "colab": {
          "base_uri": "https://localhost:8080/"
        },
        "id": "Ew8YpldkUjvt",
        "outputId": "1d40882c-6bf1-4458-fbd6-d2096ad8c5a4"
      },
      "source": [
        "# creating a variable that will contain list of count of matches in both the above scenarios\r\n",
        "\r\n",
        "x = [len(eden_win_by_runs) , len(eden_win_by_wickets)]\r\n",
        "x"
      ],
      "execution_count": 63,
      "outputs": [
        {
          "output_type": "execute_result",
          "data": {
            "text/plain": [
              "[32, 45]"
            ]
          },
          "metadata": {
            "tags": []
          },
          "execution_count": 63
        }
      ]
    },
    {
      "cell_type": "code",
      "metadata": {
        "colab": {
          "base_uri": "https://localhost:8080/",
          "height": 338
        },
        "id": "nJRlTsRZUjsm",
        "outputId": "6dec3a36-31e3-4b5d-cfe1-08ad794987c0"
      },
      "source": [
        "# Getting the plot for this distribution and pie chart will be best suited for this\r\n",
        "\r\n",
        "plt.pie(x , labels=[\"Batted First\" , \"Batted Second\"] , autopct= \"%.2f%%\" , startangle=90) #autopct will help to show the percentages in the pie chart using the string formatting\r\n",
        "plt.title(\"Eden Gardens\" , fontsize = 15)"
      ],
      "execution_count": 71,
      "outputs": [
        {
          "output_type": "execute_result",
          "data": {
            "text/plain": [
              "Text(0.5, 1.0, 'Eden Gardens')"
            ]
          },
          "metadata": {
            "tags": []
          },
          "execution_count": 71
        },
        {
          "output_type": "display_data",
          "data": {
            "image/png": "[encoded data removed]",
            "text/plain": [
              "<Figure size 720x360 with 1 Axes>"
            ]
          },
          "metadata": {
            "tags": []
          }
        }
      ]
    },
    {
      "cell_type": "markdown",
      "metadata": {
        "id": "q6CiDZX4axiS"
      },
      "source": [
        "*Seems interesting!!*\r\n",
        "\r\n",
        "*Batting in the second inning in eden gardens and winning most of the times supported the fact that eden gardens is one of the best ground to CHASE!! *\r\n",
        "\r\n",
        "\r\n",
        "*This might be the reason when teams played on eden and the one who won the toss would tend to opt to bowl first!!*\r\n",
        "\r\n"
      ]
    },
    {
      "cell_type": "markdown",
      "metadata": {
        "id": "_Rjf9p-udGmP"
      },
      "source": [
        "# Let's quickly have a glance at Wankhede!!\r\n",
        "\r\n",
        "# Does it follow the same trend or what!!"
      ]
    },
    {
      "cell_type": "code",
      "metadata": {
        "colab": {
          "base_uri": "https://localhost:8080/",
          "height": 394
        },
        "id": "ArIqX2qaeM6e",
        "outputId": "5b5ea009-6c12-4241-ed82-1e616e7122f9"
      },
      "source": [
        "wankhede = matches_df[matches_df[\"venue\"] == \"Wankhede Stadium\"]\r\n",
        "wankhede.head()"
      ],
      "execution_count": 72,
      "outputs": [
        {
          "output_type": "execute_result",
          "data": {
            "text/html": [
              "<div>\n",
              "<style scoped>\n",
              "    .dataframe tbody tr th:only-of-type {\n",
              "        vertical-align: middle;\n",
              "    }\n",
              "\n",
              "    .dataframe tbody tr th {\n",
              "        vertical-align: top;\n",
              "    }\n",
              "\n",
              "    .dataframe thead th {\n",
              "        text-align: right;\n",
              "    }\n",
              "</style>\n",
              "<table border=\"1\" class=\"dataframe\">\n",
              "  <thead>\n",
              "    <tr style=\"text-align: right;\">\n",
              "      <th></th>\n",
              "      <th>id</th>\n",
              "      <th>Season</th>\n",
              "      <th>city</th>\n",
              "      <th>date</th>\n",
              "      <th>team1</th>\n",
              "      <th>team2</th>\n",
              "      <th>toss_winner</th>\n",
              "      <th>toss_decision</th>\n",
              "      <th>result</th>\n",
              "      <th>dl_applied</th>\n",
              "      <th>winner</th>\n",
              "      <th>win_by_runs</th>\n",
              "      <th>win_by_wickets</th>\n",
              "      <th>player_of_match</th>\n",
              "      <th>venue</th>\n",
              "      <th>umpire1</th>\n",
              "      <th>umpire2</th>\n",
              "      <th>umpire3</th>\n",
              "    </tr>\n",
              "  </thead>\n",
              "  <tbody>\n",
              "    <tr>\n",
              "      <th>6</th>\n",
              "      <td>7</td>\n",
              "      <td>IPL-2017</td>\n",
              "      <td>Mumbai</td>\n",
              "      <td>09-04-2017</td>\n",
              "      <td>Kolkata Knight Riders</td>\n",
              "      <td>Mumbai Indians</td>\n",
              "      <td>Mumbai Indians</td>\n",
              "      <td>field</td>\n",
              "      <td>normal</td>\n",
              "      <td>0</td>\n",
              "      <td>Mumbai Indians</td>\n",
              "      <td>0</td>\n",
              "      <td>4</td>\n",
              "      <td>N Rana</td>\n",
              "      <td>Wankhede Stadium</td>\n",
              "      <td>Nitin Menon</td>\n",
              "      <td>CK Nandan</td>\n",
              "      <td>NaN</td>\n",
              "    </tr>\n",
              "    <tr>\n",
              "      <th>9</th>\n",
              "      <td>10</td>\n",
              "      <td>IPL-2017</td>\n",
              "      <td>Mumbai</td>\n",
              "      <td>12-04-2017</td>\n",
              "      <td>Sunrisers Hyderabad</td>\n",
              "      <td>Mumbai Indians</td>\n",
              "      <td>Mumbai Indians</td>\n",
              "      <td>field</td>\n",
              "      <td>normal</td>\n",
              "      <td>0</td>\n",
              "      <td>Mumbai Indians</td>\n",
              "      <td>0</td>\n",
              "      <td>4</td>\n",
              "      <td>JJ Bumrah</td>\n",
              "      <td>Wankhede Stadium</td>\n",
              "      <td>Nitin Menon</td>\n",
              "      <td>CK Nandan</td>\n",
              "      <td>NaN</td>\n",
              "    </tr>\n",
              "    <tr>\n",
              "      <th>15</th>\n",
              "      <td>16</td>\n",
              "      <td>IPL-2017</td>\n",
              "      <td>Mumbai</td>\n",
              "      <td>16-04-2017</td>\n",
              "      <td>Gujarat Lions</td>\n",
              "      <td>Mumbai Indians</td>\n",
              "      <td>Mumbai Indians</td>\n",
              "      <td>field</td>\n",
              "      <td>normal</td>\n",
              "      <td>0</td>\n",
              "      <td>Mumbai Indians</td>\n",
              "      <td>0</td>\n",
              "      <td>6</td>\n",
              "      <td>N Rana</td>\n",
              "      <td>Wankhede Stadium</td>\n",
              "      <td>A Nand Kishore</td>\n",
              "      <td>S Ravi</td>\n",
              "      <td>NaN</td>\n",
              "    </tr>\n",
              "    <tr>\n",
              "      <th>23</th>\n",
              "      <td>24</td>\n",
              "      <td>IPL-2017</td>\n",
              "      <td>Mumbai</td>\n",
              "      <td>22-04-2017</td>\n",
              "      <td>Mumbai Indians</td>\n",
              "      <td>Delhi Daredevils</td>\n",
              "      <td>Delhi Daredevils</td>\n",
              "      <td>field</td>\n",
              "      <td>normal</td>\n",
              "      <td>0</td>\n",
              "      <td>Mumbai Indians</td>\n",
              "      <td>14</td>\n",
              "      <td>0</td>\n",
              "      <td>MJ McClenaghan</td>\n",
              "      <td>Wankhede Stadium</td>\n",
              "      <td>A Nand Kishore</td>\n",
              "      <td>S Ravi</td>\n",
              "      <td>NaN</td>\n",
              "    </tr>\n",
              "    <tr>\n",
              "      <th>27</th>\n",
              "      <td>28</td>\n",
              "      <td>IPL-2017</td>\n",
              "      <td>Mumbai</td>\n",
              "      <td>24-04-2017</td>\n",
              "      <td>Rising Pune Supergiant</td>\n",
              "      <td>Mumbai Indians</td>\n",
              "      <td>Mumbai Indians</td>\n",
              "      <td>field</td>\n",
              "      <td>normal</td>\n",
              "      <td>0</td>\n",
              "      <td>Rising Pune Supergiant</td>\n",
              "      <td>3</td>\n",
              "      <td>0</td>\n",
              "      <td>BA Stokes</td>\n",
              "      <td>Wankhede Stadium</td>\n",
              "      <td>A Nand Kishore</td>\n",
              "      <td>S Ravi</td>\n",
              "      <td>NaN</td>\n",
              "    </tr>\n",
              "  </tbody>\n",
              "</table>\n",
              "</div>"
            ],
            "text/plain": [
              "    id    Season    city  ...         umpire1    umpire2 umpire3\n",
              "6    7  IPL-2017  Mumbai  ...     Nitin Menon  CK Nandan     NaN\n",
              "9   10  IPL-2017  Mumbai  ...     Nitin Menon  CK Nandan     NaN\n",
              "15  16  IPL-2017  Mumbai  ...  A Nand Kishore     S Ravi     NaN\n",
              "23  24  IPL-2017  Mumbai  ...  A Nand Kishore     S Ravi     NaN\n",
              "27  28  IPL-2017  Mumbai  ...  A Nand Kishore     S Ravi     NaN\n",
              "\n",
              "[5 rows x 18 columns]"
            ]
          },
          "metadata": {
            "tags": []
          },
          "execution_count": 72
        }
      ]
    },
    {
      "cell_type": "code",
      "metadata": {
        "id": "2Xxah61VdtFl"
      },
      "source": [
        "# getting matches which were won when batted first in wankhede\r\n",
        "\r\n",
        "wankhede_win_by_runs = wankhede[wankhede[\"win_by_runs\"] != 0]\r\n",
        "\r\n",
        "# getting matches which were won when batted second in wankhede\r\n",
        "\r\n",
        "wankhede_win_by_wickets = wankhede[wankhede[\"win_by_wickets\"] != 0]"
      ],
      "execution_count": 73,
      "outputs": []
    },
    {
      "cell_type": "code",
      "metadata": {
        "colab": {
          "base_uri": "https://localhost:8080/"
        },
        "id": "9h7a-5IRdtFx",
        "outputId": "1442c159-f667-4776-9dc7-aaf1d56b987a"
      },
      "source": [
        "# creating a variable that will contain list of count of matches in both the above scenarios\r\n",
        "\r\n",
        "y = [len(wankhede_win_by_runs) , len(wankhede_win_by_wickets)]\r\n",
        "y"
      ],
      "execution_count": 76,
      "outputs": [
        {
          "output_type": "execute_result",
          "data": {
            "text/plain": [
              "[35, 37]"
            ]
          },
          "metadata": {
            "tags": []
          },
          "execution_count": 76
        }
      ]
    },
    {
      "cell_type": "code",
      "metadata": {
        "colab": {
          "base_uri": "https://localhost:8080/",
          "height": 338
        },
        "id": "Hw9va_SldtFy",
        "outputId": "fd042034-af12-4bc8-f819-de0f3a127820"
      },
      "source": [
        "# Getting the plot for this distribution and pie chart will be best suited for this\r\n",
        "\r\n",
        "plt.pie(y , labels=[\"Batted First\" , \"Batted Second\"] , autopct= \"%.2f%%\" , startangle=90) #autopct will help to show the percentages in the pie chart using the string formatting\r\n",
        "plt.title(\"Wankhede Stadium\" , fontsize = 15)"
      ],
      "execution_count": 77,
      "outputs": [
        {
          "output_type": "execute_result",
          "data": {
            "text/plain": [
              "Text(0.5, 1.0, 'Wankhede Stadium')"
            ]
          },
          "metadata": {
            "tags": []
          },
          "execution_count": 77
        },
        {
          "output_type": "display_data",
          "data": {
            "image/png": "[encoded data removed]",
            "text/plain": [
              "<Figure size 720x360 with 1 Axes>"
            ]
          },
          "metadata": {
            "tags": []
          }
        }
      ]
    },
    {
      "cell_type": "markdown",
      "metadata": {
        "id": "e83BqizlesKw"
      },
      "source": [
        "*ohh!! Wankhede seems to be neutral whether you bat first or second!!*"
      ]
    },
    {
      "cell_type": "markdown",
      "metadata": {
        "id": "jeTR1u_VO0HK"
      },
      "source": [
        "# Winning the toss implies winning the match??\r\n",
        "\r\n",
        "# Does this make sense??\r\n",
        "\r\n",
        "\r\n",
        "# *let's see this in action*\r\n",
        "\r\n"
      ]
    },
    {
      "cell_type": "code",
      "metadata": {
        "colab": {
          "base_uri": "https://localhost:8080/",
          "height": 445
        },
        "id": "5bX3lzdX5kM5",
        "outputId": "286b8b30-717a-4235-ba7f-c2883766a9b4"
      },
      "source": [
        "# getting number of matches in which the team who won the toss had won the match too\r\n",
        "\r\n",
        "matches_df[matches_df[\"toss_winner\"] == matches_df[\"winner\"]].head()"
      ],
      "execution_count": 44,
      "outputs": [
        {
          "output_type": "execute_result",
          "data": {
            "text/html": [
              "<div>\n",
              "<style scoped>\n",
              "    .dataframe tbody tr th:only-of-type {\n",
              "        vertical-align: middle;\n",
              "    }\n",
              "\n",
              "    .dataframe tbody tr th {\n",
              "        vertical-align: top;\n",
              "    }\n",
              "\n",
              "    .dataframe thead th {\n",
              "        text-align: right;\n",
              "    }\n",
              "</style>\n",
              "<table border=\"1\" class=\"dataframe\">\n",
              "  <thead>\n",
              "    <tr style=\"text-align: right;\">\n",
              "      <th></th>\n",
              "      <th>id</th>\n",
              "      <th>Season</th>\n",
              "      <th>city</th>\n",
              "      <th>date</th>\n",
              "      <th>team1</th>\n",
              "      <th>team2</th>\n",
              "      <th>toss_winner</th>\n",
              "      <th>toss_decision</th>\n",
              "      <th>result</th>\n",
              "      <th>dl_applied</th>\n",
              "      <th>winner</th>\n",
              "      <th>win_by_runs</th>\n",
              "      <th>win_by_wickets</th>\n",
              "      <th>player_of_match</th>\n",
              "      <th>venue</th>\n",
              "      <th>umpire1</th>\n",
              "      <th>umpire2</th>\n",
              "      <th>umpire3</th>\n",
              "    </tr>\n",
              "  </thead>\n",
              "  <tbody>\n",
              "    <tr>\n",
              "      <th>1</th>\n",
              "      <td>2</td>\n",
              "      <td>IPL-2017</td>\n",
              "      <td>Pune</td>\n",
              "      <td>06-04-2017</td>\n",
              "      <td>Mumbai Indians</td>\n",
              "      <td>Rising Pune Supergiant</td>\n",
              "      <td>Rising Pune Supergiant</td>\n",
              "      <td>field</td>\n",
              "      <td>normal</td>\n",
              "      <td>0</td>\n",
              "      <td>Rising Pune Supergiant</td>\n",
              "      <td>0</td>\n",
              "      <td>7</td>\n",
              "      <td>SPD Smith</td>\n",
              "      <td>Maharashtra Cricket Association Stadium</td>\n",
              "      <td>A Nand Kishore</td>\n",
              "      <td>S Ravi</td>\n",
              "      <td>NaN</td>\n",
              "    </tr>\n",
              "    <tr>\n",
              "      <th>2</th>\n",
              "      <td>3</td>\n",
              "      <td>IPL-2017</td>\n",
              "      <td>Rajkot</td>\n",
              "      <td>07-04-2017</td>\n",
              "      <td>Gujarat Lions</td>\n",
              "      <td>Kolkata Knight Riders</td>\n",
              "      <td>Kolkata Knight Riders</td>\n",
              "      <td>field</td>\n",
              "      <td>normal</td>\n",
              "      <td>0</td>\n",
              "      <td>Kolkata Knight Riders</td>\n",
              "      <td>0</td>\n",
              "      <td>10</td>\n",
              "      <td>CA Lynn</td>\n",
              "      <td>Saurashtra Cricket Association Stadium</td>\n",
              "      <td>Nitin Menon</td>\n",
              "      <td>CK Nandan</td>\n",
              "      <td>NaN</td>\n",
              "    </tr>\n",
              "    <tr>\n",
              "      <th>3</th>\n",
              "      <td>4</td>\n",
              "      <td>IPL-2017</td>\n",
              "      <td>Indore</td>\n",
              "      <td>08-04-2017</td>\n",
              "      <td>Rising Pune Supergiant</td>\n",
              "      <td>Kings XI Punjab</td>\n",
              "      <td>Kings XI Punjab</td>\n",
              "      <td>field</td>\n",
              "      <td>normal</td>\n",
              "      <td>0</td>\n",
              "      <td>Kings XI Punjab</td>\n",
              "      <td>0</td>\n",
              "      <td>6</td>\n",
              "      <td>GJ Maxwell</td>\n",
              "      <td>Holkar Cricket Stadium</td>\n",
              "      <td>AK Chaudhary</td>\n",
              "      <td>C Shamshuddin</td>\n",
              "      <td>NaN</td>\n",
              "    </tr>\n",
              "    <tr>\n",
              "      <th>4</th>\n",
              "      <td>5</td>\n",
              "      <td>IPL-2017</td>\n",
              "      <td>Bangalore</td>\n",
              "      <td>08-04-2017</td>\n",
              "      <td>Royal Challengers Bangalore</td>\n",
              "      <td>Delhi Daredevils</td>\n",
              "      <td>Royal Challengers Bangalore</td>\n",
              "      <td>bat</td>\n",
              "      <td>normal</td>\n",
              "      <td>0</td>\n",
              "      <td>Royal Challengers Bangalore</td>\n",
              "      <td>15</td>\n",
              "      <td>0</td>\n",
              "      <td>KM Jadhav</td>\n",
              "      <td>M Chinnaswamy Stadium</td>\n",
              "      <td>NaN</td>\n",
              "      <td>NaN</td>\n",
              "      <td>NaN</td>\n",
              "    </tr>\n",
              "    <tr>\n",
              "      <th>5</th>\n",
              "      <td>6</td>\n",
              "      <td>IPL-2017</td>\n",
              "      <td>Hyderabad</td>\n",
              "      <td>09-04-2017</td>\n",
              "      <td>Gujarat Lions</td>\n",
              "      <td>Sunrisers Hyderabad</td>\n",
              "      <td>Sunrisers Hyderabad</td>\n",
              "      <td>field</td>\n",
              "      <td>normal</td>\n",
              "      <td>0</td>\n",
              "      <td>Sunrisers Hyderabad</td>\n",
              "      <td>0</td>\n",
              "      <td>9</td>\n",
              "      <td>Rashid Khan</td>\n",
              "      <td>Rajiv Gandhi International Stadium, Uppal</td>\n",
              "      <td>A Deshmukh</td>\n",
              "      <td>NJ Llong</td>\n",
              "      <td>NaN</td>\n",
              "    </tr>\n",
              "  </tbody>\n",
              "</table>\n",
              "</div>"
            ],
            "text/plain": [
              "   id    Season       city  ...         umpire1        umpire2 umpire3\n",
              "1   2  IPL-2017       Pune  ...  A Nand Kishore         S Ravi     NaN\n",
              "2   3  IPL-2017     Rajkot  ...     Nitin Menon      CK Nandan     NaN\n",
              "3   4  IPL-2017     Indore  ...    AK Chaudhary  C Shamshuddin     NaN\n",
              "4   5  IPL-2017  Bangalore  ...             NaN            NaN     NaN\n",
              "5   6  IPL-2017  Hyderabad  ...      A Deshmukh       NJ Llong     NaN\n",
              "\n",
              "[5 rows x 18 columns]"
            ]
          },
          "metadata": {
            "tags": []
          },
          "execution_count": 44
        }
      ]
    },
    {
      "cell_type": "code",
      "metadata": {
        "colab": {
          "base_uri": "https://localhost:8080/"
        },
        "id": "hxCtGlapPhmq",
        "outputId": "6c5f8c6f-f685-4cdb-8ab6-86f665b66723"
      },
      "source": [
        "matches_df.info() # no null in toss winner , 4 null in winner (as 4 were like tie or no result match)"
      ],
      "execution_count": 45,
      "outputs": [
        {
          "output_type": "stream",
          "text": [
            "<class 'pandas.core.frame.DataFrame'>\n",
            "RangeIndex: 756 entries, 0 to 755\n",
            "Data columns (total 18 columns):\n",
            " #   Column           Non-Null Count  Dtype \n",
            "---  ------           --------------  ----- \n",
            " 0   id               756 non-null    int64 \n",
            " 1   Season           756 non-null    object\n",
            " 2   city             749 non-null    object\n",
            " 3   date             756 non-null    object\n",
            " 4   team1            756 non-null    object\n",
            " 5   team2            756 non-null    object\n",
            " 6   toss_winner      756 non-null    object\n",
            " 7   toss_decision    756 non-null    object\n",
            " 8   result           756 non-null    object\n",
            " 9   dl_applied       756 non-null    int64 \n",
            " 10  winner           752 non-null    object\n",
            " 11  win_by_runs      756 non-null    int64 \n",
            " 12  win_by_wickets   756 non-null    int64 \n",
            " 13  player_of_match  752 non-null    object\n",
            " 14  venue            756 non-null    object\n",
            " 15  umpire1          754 non-null    object\n",
            " 16  umpire2          754 non-null    object\n",
            " 17  umpire3          119 non-null    object\n",
            "dtypes: int64(4), object(14)\n",
            "memory usage: 106.4+ KB\n"
          ],
          "name": "stdout"
        }
      ]
    },
    {
      "cell_type": "code",
      "metadata": {
        "colab": {
          "base_uri": "https://localhost:8080/"
        },
        "id": "_TaoCyIg5j5a",
        "outputId": "231cffad-2de3-4d64-8f47-effc5725f629"
      },
      "source": [
        "matches_df[matches_df[\"toss_winner\"] == matches_df[\"winner\"]].shape #i.e 393 matches out of 752 matches were won by teams who won the toss"
      ],
      "execution_count": 46,
      "outputs": [
        {
          "output_type": "execute_result",
          "data": {
            "text/plain": [
              "(393, 18)"
            ]
          },
          "metadata": {
            "tags": []
          },
          "execution_count": 46
        }
      ]
    },
    {
      "cell_type": "code",
      "metadata": {
        "colab": {
          "base_uri": "https://localhost:8080/"
        },
        "id": "MvG9MLkwnJFT",
        "outputId": "f0a5f302-af98-4027-f144-0b01db73a497"
      },
      "source": [
        "a = matches_df[matches_df[\"toss_winner\"] == matches_df[\"winner\"]].shape[0]\r\n",
        "a"
      ],
      "execution_count": 81,
      "outputs": [
        {
          "output_type": "execute_result",
          "data": {
            "text/plain": [
              "393"
            ]
          },
          "metadata": {
            "tags": []
          },
          "execution_count": 81
        }
      ]
    },
    {
      "cell_type": "code",
      "metadata": {
        "colab": {
          "base_uri": "https://localhost:8080/"
        },
        "id": "4CTNqLsYPZWC",
        "outputId": "5625ba91-f574-4926-bb55-948f146b04b7"
      },
      "source": [
        "(393/752)*100 # 52 % winning were there as winning the toss actually got lucky for the teams :D"
      ],
      "execution_count": 47,
      "outputs": [
        {
          "output_type": "execute_result",
          "data": {
            "text/plain": [
              "52.26063829787234"
            ]
          },
          "metadata": {
            "tags": []
          },
          "execution_count": 47
        }
      ]
    },
    {
      "cell_type": "code",
      "metadata": {
        "colab": {
          "base_uri": "https://localhost:8080/"
        },
        "id": "Nu1y4z69nNkW",
        "outputId": "d5a49174-e64b-4bf7-8f21-e46851106d81"
      },
      "source": [
        "# getting count of matches for which there was a clear winner\r\n",
        "\r\n",
        "b = len(matches_df[~matches_df[\"winner\"].isna()])\r\n",
        "b"
      ],
      "execution_count": 82,
      "outputs": [
        {
          "output_type": "execute_result",
          "data": {
            "text/plain": [
              "752"
            ]
          },
          "metadata": {
            "tags": []
          },
          "execution_count": 82
        }
      ]
    },
    {
      "cell_type": "code",
      "metadata": {
        "colab": {
          "base_uri": "https://localhost:8080/"
        },
        "id": "pzkV2vMgR9UG",
        "outputId": "9197b821-07be-4e27-8f18-621b176cd109"
      },
      "source": [
        "# This might be done with the help of numpy, will do this\r\n",
        "\r\n",
        "print(f\"Winning the toss implies the {round(a/b , 2)*100} % chances of winning the match!!\")"
      ],
      "execution_count": 83,
      "outputs": [
        {
          "output_type": "stream",
          "text": [
            "Winning the toss implies the 52.0 % chances of winning the match!!\n"
          ],
          "name": "stdout"
        }
      ]
    },
    {
      "cell_type": "markdown",
      "metadata": {
        "id": "GKtdO9qnRkra"
      },
      "source": [
        "*Moral of the story:*\r\n",
        "\r\n",
        "*Win the toss, win the match!!* \r\n",
        "\r\n",
        "*Hurraaaayyyyy!!!!*"
      ]
    },
    {
      "cell_type": "markdown",
      "metadata": {
        "id": "ioKx1s9zJ2cy"
      },
      "source": [
        "# Best defending champion!!\r\n",
        "\r\n",
        "*They won't let you chase mann!!*"
      ]
    },
    {
      "cell_type": "code",
      "metadata": {
        "colab": {
          "base_uri": "https://localhost:8080/"
        },
        "id": "0APUfMy2PZRu",
        "outputId": "b92430a9-b21d-46fa-ef28-af81f26246eb"
      },
      "source": [
        "# getting max frequency of team which won by win by runs (as win by run will imply defending and getting mode of the team will tell which team defended most number of times)\r\n",
        "\r\n",
        "matches_df[matches_df[\"win_by_runs\"] != 0][\"winner\"].mode()"
      ],
      "execution_count": 49,
      "outputs": [
        {
          "output_type": "execute_result",
          "data": {
            "text/plain": [
              "0    Mumbai Indians\n",
              "dtype: object"
            ]
          },
          "metadata": {
            "tags": []
          },
          "execution_count": 49
        }
      ]
    },
    {
      "cell_type": "markdown",
      "metadata": {
        "id": "PlrDz0uQLdcy"
      },
      "source": [
        "*And as Expected, MUMBAI!!*\r\n",
        "\r\n",
        "\r\n",
        "\r\n",
        "```\r\n",
        "Mumbai won't let their supporters down!!\r\n",
        "```\r\n",
        "\r\n"
      ]
    },
    {
      "cell_type": "markdown",
      "metadata": {
        "id": "rJ_MrKtjL6zX"
      },
      "source": [
        "# Best chasing champion!!"
      ]
    },
    {
      "cell_type": "code",
      "metadata": {
        "colab": {
          "base_uri": "https://localhost:8080/"
        },
        "id": "a01aKg-qLa2V",
        "outputId": "74c74cf8-f58e-4feb-ca62-efae3a99b4d2"
      },
      "source": [
        "# like we did above for defending we can do the same to get the chasing champion\r\n",
        "\r\n",
        "matches_df[matches_df[\"win_by_wickets\"] != 0][\"winner\"].mode()"
      ],
      "execution_count": 50,
      "outputs": [
        {
          "output_type": "execute_result",
          "data": {
            "text/plain": [
              "0    Kolkata Knight Riders\n",
              "dtype: object"
            ]
          },
          "metadata": {
            "tags": []
          },
          "execution_count": 50
        }
      ]
    },
    {
      "cell_type": "markdown",
      "metadata": {
        "id": "V1D4Z1jOMhiD"
      },
      "source": [
        "\r\n",
        "`Shahrukh must be happy :D`\r\n",
        "\r\n"
      ]
    },
    {
      "cell_type": "markdown",
      "metadata": {
        "id": "7KG3XonWS3_k"
      },
      "source": [
        "# Which team was consistent throughout the IPL??"
      ]
    },
    {
      "cell_type": "code",
      "metadata": {
        "colab": {
          "base_uri": "https://localhost:8080/",
          "height": 445
        },
        "id": "QFBpzfQDfeE5",
        "outputId": "bde36405-7f9e-43db-9046-4aacdb0f4e88"
      },
      "source": [
        "matches_df.head()"
      ],
      "execution_count": 78,
      "outputs": [
        {
          "output_type": "execute_result",
          "data": {
            "text/html": [
              "<div>\n",
              "<style scoped>\n",
              "    .dataframe tbody tr th:only-of-type {\n",
              "        vertical-align: middle;\n",
              "    }\n",
              "\n",
              "    .dataframe tbody tr th {\n",
              "        vertical-align: top;\n",
              "    }\n",
              "\n",
              "    .dataframe thead th {\n",
              "        text-align: right;\n",
              "    }\n",
              "</style>\n",
              "<table border=\"1\" class=\"dataframe\">\n",
              "  <thead>\n",
              "    <tr style=\"text-align: right;\">\n",
              "      <th></th>\n",
              "      <th>id</th>\n",
              "      <th>Season</th>\n",
              "      <th>city</th>\n",
              "      <th>date</th>\n",
              "      <th>team1</th>\n",
              "      <th>team2</th>\n",
              "      <th>toss_winner</th>\n",
              "      <th>toss_decision</th>\n",
              "      <th>result</th>\n",
              "      <th>dl_applied</th>\n",
              "      <th>winner</th>\n",
              "      <th>win_by_runs</th>\n",
              "      <th>win_by_wickets</th>\n",
              "      <th>player_of_match</th>\n",
              "      <th>venue</th>\n",
              "      <th>umpire1</th>\n",
              "      <th>umpire2</th>\n",
              "      <th>umpire3</th>\n",
              "    </tr>\n",
              "  </thead>\n",
              "  <tbody>\n",
              "    <tr>\n",
              "      <th>0</th>\n",
              "      <td>1</td>\n",
              "      <td>IPL-2017</td>\n",
              "      <td>Hyderabad</td>\n",
              "      <td>05-04-2017</td>\n",
              "      <td>Sunrisers Hyderabad</td>\n",
              "      <td>Royal Challengers Bangalore</td>\n",
              "      <td>Royal Challengers Bangalore</td>\n",
              "      <td>field</td>\n",
              "      <td>normal</td>\n",
              "      <td>0</td>\n",
              "      <td>Sunrisers Hyderabad</td>\n",
              "      <td>35</td>\n",
              "      <td>0</td>\n",
              "      <td>Yuvraj Singh</td>\n",
              "      <td>Rajiv Gandhi International Stadium, Uppal</td>\n",
              "      <td>AY Dandekar</td>\n",
              "      <td>NJ Llong</td>\n",
              "      <td>NaN</td>\n",
              "    </tr>\n",
              "    <tr>\n",
              "      <th>1</th>\n",
              "      <td>2</td>\n",
              "      <td>IPL-2017</td>\n",
              "      <td>Pune</td>\n",
              "      <td>06-04-2017</td>\n",
              "      <td>Mumbai Indians</td>\n",
              "      <td>Rising Pune Supergiant</td>\n",
              "      <td>Rising Pune Supergiant</td>\n",
              "      <td>field</td>\n",
              "      <td>normal</td>\n",
              "      <td>0</td>\n",
              "      <td>Rising Pune Supergiant</td>\n",
              "      <td>0</td>\n",
              "      <td>7</td>\n",
              "      <td>SPD Smith</td>\n",
              "      <td>Maharashtra Cricket Association Stadium</td>\n",
              "      <td>A Nand Kishore</td>\n",
              "      <td>S Ravi</td>\n",
              "      <td>NaN</td>\n",
              "    </tr>\n",
              "    <tr>\n",
              "      <th>2</th>\n",
              "      <td>3</td>\n",
              "      <td>IPL-2017</td>\n",
              "      <td>Rajkot</td>\n",
              "      <td>07-04-2017</td>\n",
              "      <td>Gujarat Lions</td>\n",
              "      <td>Kolkata Knight Riders</td>\n",
              "      <td>Kolkata Knight Riders</td>\n",
              "      <td>field</td>\n",
              "      <td>normal</td>\n",
              "      <td>0</td>\n",
              "      <td>Kolkata Knight Riders</td>\n",
              "      <td>0</td>\n",
              "      <td>10</td>\n",
              "      <td>CA Lynn</td>\n",
              "      <td>Saurashtra Cricket Association Stadium</td>\n",
              "      <td>Nitin Menon</td>\n",
              "      <td>CK Nandan</td>\n",
              "      <td>NaN</td>\n",
              "    </tr>\n",
              "    <tr>\n",
              "      <th>3</th>\n",
              "      <td>4</td>\n",
              "      <td>IPL-2017</td>\n",
              "      <td>Indore</td>\n",
              "      <td>08-04-2017</td>\n",
              "      <td>Rising Pune Supergiant</td>\n",
              "      <td>Kings XI Punjab</td>\n",
              "      <td>Kings XI Punjab</td>\n",
              "      <td>field</td>\n",
              "      <td>normal</td>\n",
              "      <td>0</td>\n",
              "      <td>Kings XI Punjab</td>\n",
              "      <td>0</td>\n",
              "      <td>6</td>\n",
              "      <td>GJ Maxwell</td>\n",
              "      <td>Holkar Cricket Stadium</td>\n",
              "      <td>AK Chaudhary</td>\n",
              "      <td>C Shamshuddin</td>\n",
              "      <td>NaN</td>\n",
              "    </tr>\n",
              "    <tr>\n",
              "      <th>4</th>\n",
              "      <td>5</td>\n",
              "      <td>IPL-2017</td>\n",
              "      <td>Bangalore</td>\n",
              "      <td>08-04-2017</td>\n",
              "      <td>Royal Challengers Bangalore</td>\n",
              "      <td>Delhi Daredevils</td>\n",
              "      <td>Royal Challengers Bangalore</td>\n",
              "      <td>bat</td>\n",
              "      <td>normal</td>\n",
              "      <td>0</td>\n",
              "      <td>Royal Challengers Bangalore</td>\n",
              "      <td>15</td>\n",
              "      <td>0</td>\n",
              "      <td>KM Jadhav</td>\n",
              "      <td>M Chinnaswamy Stadium</td>\n",
              "      <td>NaN</td>\n",
              "      <td>NaN</td>\n",
              "      <td>NaN</td>\n",
              "    </tr>\n",
              "  </tbody>\n",
              "</table>\n",
              "</div>"
            ],
            "text/plain": [
              "   id    Season       city  ...         umpire1        umpire2 umpire3\n",
              "0   1  IPL-2017  Hyderabad  ...     AY Dandekar       NJ Llong     NaN\n",
              "1   2  IPL-2017       Pune  ...  A Nand Kishore         S Ravi     NaN\n",
              "2   3  IPL-2017     Rajkot  ...     Nitin Menon      CK Nandan     NaN\n",
              "3   4  IPL-2017     Indore  ...    AK Chaudhary  C Shamshuddin     NaN\n",
              "4   5  IPL-2017  Bangalore  ...             NaN            NaN     NaN\n",
              "\n",
              "[5 rows x 18 columns]"
            ]
          },
          "metadata": {
            "tags": []
          },
          "execution_count": 78
        }
      ]
    },
    {
      "cell_type": "code",
      "metadata": {
        "id": "2PlaeUbvfeA8"
      },
      "source": [
        ""
      ],
      "execution_count": 50,
      "outputs": []
    },
    {
      "cell_type": "code",
      "metadata": {
        "id": "zN1lcf6gLavt"
      },
      "source": [
        ""
      ],
      "execution_count": 50,
      "outputs": []
    },
    {
      "cell_type": "code",
      "metadata": {
        "id": "h93bGcQLPZN-"
      },
      "source": [
        ""
      ],
      "execution_count": 50,
      "outputs": []
    },
    {
      "cell_type": "code",
      "metadata": {
        "id": "HMNl893E1JHb"
      },
      "source": [
        ""
      ],
      "execution_count": 58,
      "outputs": []
    }
  ]
}